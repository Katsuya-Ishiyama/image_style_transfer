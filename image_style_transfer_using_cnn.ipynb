{
 "cells": [
  {
   "cell_type": "markdown",
   "metadata": {},
   "source": [
    "# Image Style Transferの実装\n",
    "\n",
    "--------------------------------\n",
    "Gatys, Ecker, and Bethge(2016)の画像スタイル変換を実装する。\n",
    "\n",
    "【参考文献】  \n",
    "L. A. Gatys, A. S. Ecker, and M. Bethge,  \n",
    "Image style transfer using convolutional neural networks,  \n",
    "In Proceedings of the IEEE Conference on Computer Vision and Pattern Recognition, pages, 2414-2423, 2016."
   ]
  },
  {
   "cell_type": "code",
   "execution_count": 1,
   "metadata": {
    "collapsed": true
   },
   "outputs": [],
   "source": [
    "import numpy as np\n",
    "import pandas as pd\n",
    "import tensorflow as tf"
   ]
  },
  {
   "cell_type": "code",
   "execution_count": 2,
   "metadata": {
    "collapsed": true
   },
   "outputs": [],
   "source": [
    "CONTENT_FILE = '/home/ishiyama/image_style_transfer/image/input/test_input_01.JPG'\n",
    "STYLE_FILE = '/home/ishiyama/image_style_transfer/image/style/test_style_01.jpg'"
   ]
  },
  {
   "cell_type": "code",
   "execution_count": 3,
   "metadata": {
    "collapsed": true
   },
   "outputs": [],
   "source": [
    "class Image(np.ndarray):\n",
    "\n",
    "    \"\"\"画像を扱うためのnumpy.ndarray\n",
    "    \n",
    "    XXX: 実装が大変なので一旦保留\n",
    "         画像の形状の情報を属性で取り出せるようにしたい\n",
    "    \"\"\"\n",
    "    \n",
    "    DATA_FORMAT_CHAR = {\n",
    "        'BATCH': 'N',\n",
    "        'HEIGHT': 'H',\n",
    "        'WIDTH': 'W',\n",
    "        'CHANNEL': 'C'\n",
    "    }\n",
    "\n",
    "    def __new__(subtype,\n",
    "                shape,\n",
    "                dtype=float,\n",
    "                buffer=None,\n",
    "                offset=0,\n",
    "                strides=None,\n",
    "                order=None,\n",
    "                data_format='NHWC'):\n",
    "\n",
    "        super(__class__, self).__new__(subtype, shape, dtype, buffer, offset, strides, order)\n",
    "\n",
    "        self.data_format = data_format\n",
    "        num_batch, num_height, num_width, num_channel = self._get_image_shape(data_format=data_format)\n",
    "        self.num_batch = num_batch\n",
    "        self.num_height = num_height\n",
    "        self.num_width = num_width\n",
    "        self.num_channel = num_channel\n",
    "\n",
    "    def _get_image_shape(self, data_format):\n",
    "        _image_shape = self.shape\n",
    "        idx_batch = self._get_index_data_format(data_format=data_format, data_type='BATCH'),\n",
    "        idx_height = self._get_index_data_format(data_format=data_format, data_type='HEIGHT')\n",
    "        idx_width = self._get_index_data_format(data_format=data_format, data_type='WIDTH')\n",
    "        idx_channel = self._get_index_data_format(data_format=data_format, data_type='CHANNEL')\n",
    "        reordered_image_shape = (_image_shape[idx_batch],\n",
    "                                 _image_shape[idx_height],\n",
    "                                 _image_shape[idx_width],\n",
    "                                 _image_shape[idx_channel])\n",
    "        return reordered_image_shape\n",
    "\n",
    "    def _get_index_data_format(self, data_format, data_type):\n",
    "        idx = data_format.find(__class__.DATA_FORMAT_CHAR[data_type])\n",
    "        if idx == -1:\n",
    "            raise ValueError('data type \"{}\" is not available.'.format(data_type))\n",
    "\n",
    "        return idx\n",
    "\n",
    "    @classmethod\n",
    "    def reshape(self, *args):\n",
    "        self = __class__(super(__class__, self).reshape(args))\n"
   ]
  },
  {
   "cell_type": "code",
   "execution_count": 4,
   "metadata": {
    "collapsed": true
   },
   "outputs": [],
   "source": [
    "def read_images_as_jpeg(file):\n",
    "    \n",
    "    \"\"\"\n",
    "    JPEG Image Reader\n",
    "    \n",
    "    This function reads the content and style images as JPEG format.\n",
    "    These image data must be square for now, different height and\n",
    "    width will be able to supplied for future.\n",
    "    \n",
    "    Args:\n",
    "        file : str. A path of the image file.\n",
    "    \n",
    "    Returns:\n",
    "        A tuple. Each Elements are Tensor object of the read images.\n",
    "    \"\"\"\n",
    "    \n",
    "    filename_queue = tf.train.string_input_producer([file])\n",
    "    reader = tf.WholeFileReader()\n",
    "    key, value = reader.read(filename_queue)\n",
    "    image = tf.image.decode_jpeg(value)\n",
    "\n",
    "    # Read image is a Tensor object which tf.nn.conv2d cannot handle,\n",
    "    # so convert it to numpy.ndarray.\n",
    "    sess = tf.Session()\n",
    "    sess.run(tf.global_variables_initializer())\n",
    "    tf.train.start_queue_runners(sess)\n",
    "    # Returned array's shape will be (height, width, channel).\n",
    "    image_array_hwc = sess.run(image)\n",
    "    new_shape = [1]\n",
    "    new_shape.extend(image_array_hwc.shape)\n",
    "\n",
    "    # return image_array_chw\n",
    "    return image_array_hwc.reshape(new_shape)"
   ]
  },
  {
   "cell_type": "code",
   "execution_count": 5,
   "metadata": {},
   "outputs": [
    {
     "data": {
      "text/plain": [
       "(1, 1200, 1600, 3)"
      ]
     },
     "execution_count": 5,
     "metadata": {},
     "output_type": "execute_result"
    }
   ],
   "source": [
    "image = read_images_as_jpeg(file=CONTENT_FILE)\n",
    "image.shape"
   ]
  },
  {
   "cell_type": "markdown",
   "metadata": {},
   "source": [
    "# VGGを実装する\n",
    "------------------------\n",
    "画像の特徴量を抽出するアルゴリズムにはSimonyan and Zisserman(2015)で提案されたCNN(VGG19)の畳込み層とプーリング層が使われている。  \n",
    "ここでは、「TensorFlowで学ぶディープラーニング入門」の多層CNNの実装を参考にVGG19を構築する。  \n",
    "\n",
    "【参考文献】  \n",
    "K. Simonyan and A. Zisserman, Very Deep Convolutional Networks For Large-Scale Image Recognition, arXiv: 1409.1556v6, 2015  \n",
    "中井悦司, TensorFlowで学ぶディープラーニング入門〜畳み込みニューラルネットワーク徹底解説, マイナビ出版, 2016"
   ]
  },
  {
   "cell_type": "markdown",
   "metadata": {},
   "source": [
    "### 畳み込み層を実装する"
   ]
  },
  {
   "cell_type": "code",
   "execution_count": 6,
   "metadata": {
    "collapsed": true
   },
   "outputs": [],
   "source": [
    "import tensorflow as tf\n",
    "import numpy as np\n",
    "from tensorflow.examples.tutorials.mnist import input_data\n",
    "\n",
    "\n",
    "def calculate_convolutional_layer(x, filter_height, filter_width, output_channels):\n",
    "\n",
    "    \"\"\"\n",
    "    Executeing a convolutional layer task.\n",
    "    \n",
    "    Args:\n",
    "        x                     : An image data.\n",
    "        filter_height   (int) : A height of each filters.\n",
    "        filter_width    (int) : A width of each filters.\n",
    "        output_channels (int) : A number of channels which must be outputed.\n",
    "\n",
    "    Returns:\n",
    "        An activation of an convolutional layer.\n",
    "    \"\"\"\n",
    "\n",
    "    if ((not isinstance(filter_height, int))\n",
    "        or (not isinstance(filter_width, int))\n",
    "        or (not isinstance(output_channels, int))):\n",
    "        raise TypeError('\"filter_height\" and \"filter_width\" and \"output_channels\" '\n",
    "                        'must be integer.')\n",
    "\n",
    "    # TODO: 入力画像の縦、横、チャンネル数を属性で取得できるようにする\n",
    "    # 例） input_channels = x.num_channels\n",
    "    input_channels = int(x.shape[-1])\n",
    "    W = tf.Variable(\n",
    "        tf.truncated_normal(\n",
    "            shape=[filter_height,\n",
    "                   filter_width,\n",
    "                   input_channels,\n",
    "                   output_channels],\n",
    "            stddev=0.1\n",
    "        )\n",
    "    )\n",
    "    h = tf.nn.conv2d(x, W, strides=[1, 1, 1, 1], padding='SAME')\n",
    "    b = tf.Variable(tf.constant(0.1, shape=[output_channels]))\n",
    "    convoluted_image = tf.nn.relu(h + b)\n",
    "\n",
    "    return convoluted_image"
   ]
  },
  {
   "cell_type": "code",
   "execution_count": 7,
   "metadata": {
    "collapsed": true
   },
   "outputs": [],
   "source": [
    "x = tf.placeholder(tf.float32, [1, 1200, 1600, 3])\n",
    "test_model = calculate_convolutional_layer(\n",
    "    x=x,\n",
    "    filter_height=3,\n",
    "    filter_width=3,\n",
    "    output_channels=1\n",
    ")\n",
    "sess = tf.InteractiveSession()\n",
    "# tf.Session()だと、sess.runで返ってくる行列の要素がすべて0だった。\n",
    "# TODO: Sessionメソッド と InteractiveSessionメソッドの違いを調べる\n",
    "# sess = tf.Session()\n",
    "sess.run(tf.global_variables_initializer())\n",
    "test_result = sess.run(test_model, feed_dict={x: image})"
   ]
  },
  {
   "cell_type": "code",
   "execution_count": 8,
   "metadata": {},
   "outputs": [
    {
     "data": {
      "text/plain": [
       "(1, 1200, 1600, 1)"
      ]
     },
     "execution_count": 8,
     "metadata": {},
     "output_type": "execute_result"
    }
   ],
   "source": [
    "test_result.shape"
   ]
  },
  {
   "cell_type": "code",
   "execution_count": 9,
   "metadata": {},
   "outputs": [
    {
     "data": {
      "text/plain": [
       "array([[[[ 112.70514679],\n",
       "         [ 128.16131592],\n",
       "         [ 128.5138092 ],\n",
       "         ..., \n",
       "         [  91.39342499],\n",
       "         [  92.1344223 ],\n",
       "         [  75.42243958]],\n",
       "\n",
       "        [[ 137.54698181],\n",
       "         [ 134.74995422],\n",
       "         [ 132.69534302],\n",
       "         ..., \n",
       "         [  97.32675934],\n",
       "         [  98.38056183],\n",
       "         [  83.37560272]],\n",
       "\n",
       "        [[ 135.02359009],\n",
       "         [ 131.20184326],\n",
       "         [ 129.7742157 ],\n",
       "         ..., \n",
       "         [  97.85587311],\n",
       "         [  98.76654816],\n",
       "         [  82.42256927]],\n",
       "\n",
       "        ..., \n",
       "        [[ 133.74493408],\n",
       "         [ 130.07633972],\n",
       "         [ 133.27828979],\n",
       "         ..., \n",
       "         [ 135.64941406],\n",
       "         [ 135.94631958],\n",
       "         [ 114.93429565]],\n",
       "\n",
       "        [[ 135.07643127],\n",
       "         [ 133.87402344],\n",
       "         [ 136.48208618],\n",
       "         ..., \n",
       "         [ 135.72117615],\n",
       "         [ 135.72525024],\n",
       "         [ 114.62847137]],\n",
       "\n",
       "        [[ 113.70575714],\n",
       "         [  80.11441803],\n",
       "         [  79.86685944],\n",
       "         ..., \n",
       "         [  79.5676651 ],\n",
       "         [  79.77925873],\n",
       "         [  50.97554779]]]], dtype=float32)"
      ]
     },
     "execution_count": 9,
     "metadata": {},
     "output_type": "execute_result"
    }
   ],
   "source": [
    "test_result"
   ]
  },
  {
   "cell_type": "markdown",
   "metadata": {
    "collapsed": true
   },
   "source": [
    "### Maxプーリング層を実装する"
   ]
  },
  {
   "cell_type": "code",
   "execution_count": 10,
   "metadata": {
    "collapsed": true
   },
   "outputs": [],
   "source": [
    "def calculate_max_pooling_layer(x, ksize, strides):\n",
    "\n",
    "    \"\"\"Wrapper function of tf.nn.max_pool.\n",
    "    \n",
    "    Args:\n",
    "        x       : A Tensor produced by calculate_convolutional_layer.\n",
    "        ksize   : A list of ints that has length >= 4. The size of\n",
    "                  the window for each dimension of the input tensor.\n",
    "        strides : A list of ints that has length >= 4. The stride\n",
    "                  of the sliding window for each dimension of the\n",
    "                  input tensor.\n",
    "    \n",
    "    Returns:\n",
    "        A pooled image.\n",
    "    \"\"\"\n",
    "\n",
    "    pooled_image = tf.nn.max_pool(x, ksize=ksize, strides=strides, padding='SAME')\n",
    "\n",
    "    return pooled_image"
   ]
  },
  {
   "cell_type": "markdown",
   "metadata": {},
   "source": [
    "### 畳込みとプーリング処理の途中経過を保持するクラスを実装する"
   ]
  },
  {
   "cell_type": "code",
   "execution_count": 11,
   "metadata": {
    "collapsed": true
   },
   "outputs": [],
   "source": [
    "class ConvNetProgressHolder(object):\n",
    "\n",
    "    \"\"\"Holder of convoluted images and pooled image.\n",
    "    \n",
    "    This class is used like the struct of C language.\n",
    "    This has no methods.\n",
    "    \n",
    "    Attributes:\n",
    "        input_data (Tensor) : An image that is applied to convolution and pooling.\n",
    "        conv (list)         : The list of convoluted images, each images are Tensor objects.\n",
    "        pool (Tensor)       : A image that is pooled after convolutional layer.\n",
    "    \"\"\"\n",
    "\n",
    "    def __init__(self):\n",
    "\n",
    "        self.input_data = None\n",
    "        self.conv = []\n",
    "        self.pool = None\n",
    "\n",
    "\n",
    "# FILTER_CONF = {\n",
    "#     'height': 3,\n",
    "#     'width': 3,\n",
    "#     'channels': 1,\n",
    "#     'num': 1\n",
    "# }\n",
    "\n",
    "FILTER_CONF = {\n",
    "    'height': 3,\n",
    "    'width': 3\n",
    "}\n",
    "\n",
    "\n",
    "def apply_vgg_network_unit(x, channels, num_conv):\n",
    "\n",
    "    \"\"\"Apply VGG Network From a Convolutional Layer to Max Pooling Layer.\n",
    "\n",
    "    Table 1 of Simonyan and Zisserman(2015) is separated by 5 parts,\n",
    "    each parts is from an input data or a pooled data at previous part\n",
    "    to a maxpool.\n",
    "    This function provides to apply a that part.\n",
    "    This will apply recursively.\n",
    "    \n",
    "    Args:\n",
    "        x (Tensor)     : An input data or A Max pooled data returned by this function.\n",
    "        channels (int) : A number of channels described at Table 1 of\n",
    "                         Simonyan and Zisserman(2015).\n",
    "        num_conv (int) : A number of applying covolutional layers.\n",
    "                         See Simonyan and Zisserman(2015) for detail.\n",
    "\n",
    "    Returns:\n",
    "        A ConvNetProgressHolder object.\n",
    "    \"\"\"\n",
    "\n",
    "    if num_conv < 2:\n",
    "        raise ValueError('num_conv must be >= 2.')\n",
    "\n",
    "    conv_holder = ConvNetProgressHolder()\n",
    "    conv_holder.input_data = x\n",
    "\n",
    "    conv = calculate_convolutional_layer(\n",
    "        x=conv_holder.input_data,\n",
    "        filter_height=FILTER_CONF['height'],\n",
    "\n",
    "        filter_width=FILTER_CONF['width'],\n",
    "        output_channels=channels\n",
    "    )\n",
    "    conv_holder.conv.append(conv)\n",
    "\n",
    "    for i in range(1, num_conv):\n",
    "        conv = calculate_convolutional_layer(\n",
    "            x=conv_holder.conv[i - 1],\n",
    "            filter_height=FILTER_CONF['height'],\n",
    "            filter_width=FILTER_CONF['width'],\n",
    "            output_channels=channels\n",
    "        )\n",
    "        conv_holder.conv.append(conv)\n",
    "\n",
    "    conv_holder.pool = calculate_max_pooling_layer(\n",
    "        x=conv_holder.conv[i - 1],\n",
    "        ksize=[1, 2, 2, 1],\n",
    "        strides=[1, 2, 2, 1]\n",
    "    )\n",
    "\n",
    "    return conv_holder\n"
   ]
  },
  {
   "cell_type": "markdown",
   "metadata": {},
   "source": [
    "### VGGの畳込みとプーリング層を構築する\n",
    "\n",
    "VGGの論文に従い、複数回の畳込み処理と1回のMAXプーリング処理を1セットとして、それを5回繰り返す。  \n",
    "今回実装する画像変換アルゴリズムでは、この処理の途中経過を使うため、使いたい部分をリストで１つにまとめてsess.run()に投げる。\n",
    "\n",
    "#### ※処理が重たいので実行に注意すること。\n",
    "実行環境は下記の通り。  \n",
    "今回はテストで実行するため、チャンネル数を少なくして実行しているが、  \n",
    "それでも実行するとメモリをすべて使うため、20〜30秒ほど\n",
    "フリーズしたかのように動作が重くなる。\n",
    "\n",
    "OS： Linux Mint 17.1 Rebecca  \n",
    "CPU： Intel(R) Core(TM)2 Duo CPU L9400 @ 1.86GHz  \n",
    "メモリ: 4GB"
   ]
  },
  {
   "cell_type": "code",
   "execution_count": 39,
   "metadata": {
    "collapsed": true
   },
   "outputs": [],
   "source": [
    "x = tf.placeholder(tf.float32, [1, 1200, 1600, 3])\n",
    "unit1 = apply_vgg_network_unit(x=x, channels=2, num_conv=2)\n",
    "unit2 = apply_vgg_network_unit(x=unit1.pool, channels=4, num_conv=2)\n",
    "unit3 = apply_vgg_network_unit(x=unit2.pool, channels=8, num_conv=4)\n",
    "unit4 = apply_vgg_network_unit(x=unit3.pool, channels=16, num_conv=4)\n",
    "unit5 = apply_vgg_network_unit(x=unit4.pool, channels=32, num_conv=4)\n",
    "sess = tf.InteractiveSession()\n",
    "# sess = tf.Session()\n",
    "sess.run(tf.global_variables_initializer())\n",
    "\n",
    "# 使いたい過程をリストでまとめてsess.runに投げると特徴量抽出の\n",
    "# 途中経過を取り出せる\n",
    "result_unit2_conv, result_unit5_conv, result_unit5_pool = sess.run(\n",
    "    [unit2.conv[1], unit5.conv[2], unit5.pool],\n",
    "    feed_dict={x: image}\n",
    ")\n",
    "#result_list = sess.run(\n",
    "#    [unit2.conv[1], unit5.conv[2], unit5.pool],\n",
    "#    feed_dict={x: image}\n",
    "#)"
   ]
  },
  {
   "cell_type": "code",
   "execution_count": 40,
   "metadata": {
    "scrolled": false
   },
   "outputs": [
    {
     "data": {
      "text/plain": [
       "[array([[ 0.        ,  0.19515181,  0.28172809, ...,  0.10160407,\n",
       "          0.05559425,  0.09484372],\n",
       "        [ 0.        ,  0.37957731,  0.29346544, ...,  0.11967082,\n",
       "          0.08694198,  0.10553464],\n",
       "        [ 0.        ,  0.        ,  0.        , ...,  0.11967082,\n",
       "          0.08694198,  0.10553464],\n",
       "        ..., \n",
       "        [ 0.        ,  0.42349544,  0.78957283, ...,  0.11967082,\n",
       "          0.08694198,  0.10553464],\n",
       "        [ 0.0559251 ,  0.40405619,  0.29025877, ...,  0.11967082,\n",
       "          0.08694198,  0.10553464],\n",
       "        [ 0.        ,  0.        ,  0.        , ...,  0.10149642,\n",
       "          0.07735725,  0.10091563]], dtype=float32),\n",
       " array([[ 0.33444834,  0.0888759 ,  0.        , ...,  0.        ,\n",
       "          0.07049304,  0.2961235 ],\n",
       "        [ 0.33314872,  0.16404781,  0.        , ...,  0.        ,\n",
       "          0.15296367,  0.4274711 ],\n",
       "        [ 0.17283794,  0.10241053,  0.        , ...,  0.03096017,\n",
       "          0.23394999,  0.54884279],\n",
       "        ..., \n",
       "        [ 0.30813834,  0.13530649,  0.        , ...,  0.0519722 ,\n",
       "          0.23881677,  0.6213997 ],\n",
       "        [ 0.22297519,  0.11944702,  0.        , ...,  0.        ,\n",
       "          0.20090596,  0.753025  ],\n",
       "        [ 0.00371078,  0.21586302,  0.        , ...,  0.3994118 ,\n",
       "          0.18777519,  0.42602578]], dtype=float32),\n",
       " array([[ 0.33444834,  0.16404781,  0.        , ...,  0.38993728,\n",
       "          0.15296367,  0.4274711 ],\n",
       "        [ 0.19038874,  0.10241053,  0.        , ...,  0.5832026 ,\n",
       "          0.28920072,  0.54884279],\n",
       "        [ 0.20619097,  0.06473988,  0.        , ...,  0.59744376,\n",
       "          0.28771335,  0.57466584],\n",
       "        ..., \n",
       "        [ 0.21057001,  0.08940767,  0.        , ...,  0.58340442,\n",
       "          0.28275216,  0.54860938],\n",
       "        [ 0.30813834,  0.13530649,  0.        , ...,  0.63199806,\n",
       "          0.23881677,  0.753025  ],\n",
       "        [ 0.00371078,  0.21586302,  0.        , ...,  0.76431578,\n",
       "          0.18777519,  0.42602578]], dtype=float32)]"
      ]
     },
     "execution_count": 40,
     "metadata": {},
     "output_type": "execute_result"
    }
   ],
   "source": [
    "flattened_result_list = [flatten(res) for res in result_list]\n",
    "flattened_result_list"
   ]
  },
  {
   "cell_type": "code",
   "execution_count": 41,
   "metadata": {},
   "outputs": [
    {
     "data": {
      "text/plain": [
       "(1, 600, 800, 4)"
      ]
     },
     "execution_count": 41,
     "metadata": {},
     "output_type": "execute_result"
    }
   ],
   "source": [
    "result_unit2_conv.shape"
   ]
  },
  {
   "cell_type": "code",
   "execution_count": 42,
   "metadata": {},
   "outputs": [
    {
     "data": {
      "text/plain": [
       "(1, 75, 100, 32)"
      ]
     },
     "execution_count": 42,
     "metadata": {},
     "output_type": "execute_result"
    }
   ],
   "source": [
    "result_unit5_conv.shape"
   ]
  },
  {
   "cell_type": "code",
   "execution_count": 43,
   "metadata": {},
   "outputs": [
    {
     "data": {
      "text/plain": [
       "array([[[[ 0.        ,  0.        ,  0.34665611, ...,  0.01044758,\n",
       "           0.00896682,  0.16145825],\n",
       "         [ 0.        ,  0.03078408,  0.539891  , ...,  0.11569723,\n",
       "           0.05869087,  0.        ],\n",
       "         [ 0.        ,  0.13931246,  0.61979979, ...,  0.13327536,\n",
       "           0.09154148,  0.        ],\n",
       "         ..., \n",
       "         [ 0.        ,  0.07932027,  0.59292465, ...,  0.1436328 ,\n",
       "           0.09119272,  0.        ],\n",
       "         [ 0.        ,  0.26379913,  0.56585687, ...,  0.12962864,\n",
       "           0.04334351,  0.        ],\n",
       "         [ 0.        ,  0.35073641,  0.38637096, ...,  0.22623608,\n",
       "           0.        ,  0.        ]],\n",
       "\n",
       "        [[ 0.        ,  0.        ,  0.31645674, ...,  0.        ,\n",
       "           0.        ,  0.20772454],\n",
       "         [ 0.        ,  0.09629722,  0.49515995, ...,  0.        ,\n",
       "           0.        ,  0.        ],\n",
       "         [ 0.        ,  0.36474115,  0.52087045, ...,  0.        ,\n",
       "           0.        ,  0.        ],\n",
       "         ..., \n",
       "         [ 0.        ,  0.30093169,  0.59148234, ...,  0.        ,\n",
       "           0.01584271,  0.        ],\n",
       "         [ 0.        ,  0.52672178,  0.59828991, ...,  0.        ,\n",
       "           0.02490016,  0.        ],\n",
       "         [ 0.        ,  0.50753939,  0.41637349, ...,  0.        ,\n",
       "           0.        ,  0.        ]],\n",
       "\n",
       "        [[ 0.        ,  0.        ,  0.24866414, ...,  0.        ,\n",
       "           0.0337012 ,  0.38094741],\n",
       "         [ 0.        ,  0.27722761,  0.34605095, ...,  0.        ,\n",
       "           0.        ,  0.        ],\n",
       "         [ 0.        ,  0.52632284,  0.39138198, ...,  0.        ,\n",
       "           0.03279281,  0.        ],\n",
       "         ..., \n",
       "         [ 0.        ,  0.47802359,  0.42127004, ...,  0.        ,\n",
       "           0.00663704,  0.        ],\n",
       "         [ 0.        ,  0.62312078,  0.49327278, ...,  0.        ,\n",
       "           0.06904371,  0.        ],\n",
       "         [ 0.        ,  0.38692412,  0.31898922, ...,  0.00153147,\n",
       "           0.        ,  0.        ]],\n",
       "\n",
       "        ..., \n",
       "        [[ 0.0398218 ,  0.00273792,  0.21777621, ...,  0.        ,\n",
       "           0.09281436,  0.31107682],\n",
       "         [ 0.        ,  0.2537224 ,  0.34750521, ...,  0.        ,\n",
       "           0.        ,  0.        ],\n",
       "         [ 0.        ,  0.49294737,  0.49836549, ...,  0.        ,\n",
       "           0.00452305,  0.01326401],\n",
       "         ..., \n",
       "         [ 0.        ,  0.49006444,  0.53520775, ...,  0.        ,\n",
       "           0.        ,  0.        ],\n",
       "         [ 0.        ,  0.64487153,  0.59590834, ...,  0.        ,\n",
       "           0.04557376,  0.        ],\n",
       "         [ 0.        ,  0.34724972,  0.39819378, ...,  0.00555965,\n",
       "           0.        ,  0.        ]],\n",
       "\n",
       "        [[ 0.12522115,  0.        ,  0.31568015, ...,  0.06195009,\n",
       "           0.00610594,  0.48040614],\n",
       "         [ 0.        ,  0.2129516 ,  0.47588873, ...,  0.        ,\n",
       "           0.        ,  0.12605849],\n",
       "         [ 0.        ,  0.40521276,  0.5584563 , ...,  0.        ,\n",
       "           0.        ,  0.19377044],\n",
       "         ..., \n",
       "         [ 0.        ,  0.36936945,  0.61476296, ...,  0.        ,\n",
       "           0.03699226,  0.09776261],\n",
       "         [ 0.        ,  0.45121223,  0.70541602, ...,  0.        ,\n",
       "           0.11093734,  0.        ],\n",
       "         [ 0.        ,  0.31516796,  0.41281551, ...,  0.        ,\n",
       "           0.        ,  0.        ]],\n",
       "\n",
       "        [[ 0.12536027,  0.53227723,  0.18502754, ...,  0.        ,\n",
       "           0.08350039,  0.15595068],\n",
       "         [ 0.        ,  0.59961879,  0.18500343, ...,  0.        ,\n",
       "           0.04414895,  0.01673431],\n",
       "         [ 0.        ,  0.78678268,  0.20948535, ...,  0.        ,\n",
       "           0.07499287,  0.21903834],\n",
       "         ..., \n",
       "         [ 0.        ,  0.66935784,  0.30286148, ...,  0.        ,\n",
       "           0.05717379,  0.12638204],\n",
       "         [ 0.        ,  0.63711232,  0.32440916, ...,  0.        ,\n",
       "           0.13823158,  0.07364799],\n",
       "         [ 0.        ,  0.24815798,  0.16843089, ...,  0.        ,\n",
       "           0.        ,  0.14192262]]]], dtype=float32)"
      ]
     },
     "execution_count": 43,
     "metadata": {},
     "output_type": "execute_result"
    }
   ],
   "source": [
    "result_unit5_conv"
   ]
  },
  {
   "cell_type": "markdown",
   "metadata": {
    "collapsed": true
   },
   "source": [
    "# 画像を合成する処理を作る\n",
    "VGGによってスタイルを変換する画像とスタイルのリファレンスとなる画像の特徴量を抽出できるようになった。  \n",
    "今度はこの特徴量を用いて画像を実際に合成する部分を作っていく。  \n",
    "\n",
    "このアルゴリズムは変換したいスタイルに寄せるための損失関数$L_{style}$と  \n",
    "変換する画像の内容に寄せるための損失関数$L_{content}$をそれぞれ計算して、  \n",
    "\\begin{equation} L_{total} = \\alpha L_{content} + \\beta L_{style} \\end{equation}\n",
    "を最適化することで画像を合成する。"
   ]
  },
  {
   "cell_type": "markdown",
   "metadata": {},
   "source": [
    "----------------------------------------\n",
    "# 変換したいスタイルに寄せるための損失関数$L_{style}$を実装する\n",
    "変換したいスタイルに寄せるための損失関数$L_{style}$は次で計算する：\n",
    "\\begin{align}\n",
    "    L_{style} &= \\sum_{l=1}^{L} w_{l} E_{l} \\\\\n",
    "        E_{l} &= \\frac{1}{4N_{l}^{2}M_{l}^{2}} \\sum_{i=1}^{N_{l}} \\sum_{j=1}^{N_{l}} (G_{ij}^{l} - A_{ij}^{l})^{2}\n",
    "\\end{align}\n",
    "ただし、$N_{l}$は層$l$の畳込みフィルターの数、\n",
    "$M_{l}$は層$l$の畳込みフィルターのサイズで$M_{l} = \\text{フィルターの高さ} \\times \\text{フィルターの幅}$、\n",
    "$A_{ij}^{l}$はスタイル画像から抽出した特徴量で計算したグラム行列$A^{l}$の$(i, j)$成分、\n",
    "同様に、$G_{ij}^{l}$は合成後の画像から抽出した特徴量で計算したグラム行列$G^{l}$の$(i, j)$成分である。\n",
    "$G_{ij}^{l}$は次で計算する。  \n",
    "$G^{l}$は$(N_{l}, N_{l})$型行列で\n",
    "\\begin{equation}\n",
    "    G_{ij}^{l} = \\sum_{k=1}^{M_{l}} F_{ik}^{l}F_{jk}^{l}.\n",
    "\\end{equation}"
   ]
  },
  {
   "cell_type": "code",
   "execution_count": 16,
   "metadata": {},
   "outputs": [
    {
     "data": {
      "text/plain": [
       "(1, 75, 100, 32)"
      ]
     },
     "execution_count": 16,
     "metadata": {},
     "output_type": "execute_result"
    }
   ],
   "source": [
    "result_unit5_conv.shape"
   ]
  },
  {
   "cell_type": "code",
   "execution_count": 30,
   "metadata": {
    "collapsed": true
   },
   "outputs": [],
   "source": [
    "def convert_nhwc_to_nchw(image):\n",
    "    return image.transpose([0, 3, 1, 2])"
   ]
  },
  {
   "cell_type": "code",
   "execution_count": 31,
   "metadata": {},
   "outputs": [
    {
     "data": {
      "text/plain": [
       "(1, 32, 75, 100)"
      ]
     },
     "execution_count": 31,
     "metadata": {},
     "output_type": "execute_result"
    }
   ],
   "source": [
    "converted = convert_nhwc_to_nchw(result_unit5_conv)\n",
    "converted.shape"
   ]
  },
  {
   "cell_type": "code",
   "execution_count": 23,
   "metadata": {
    "collapsed": true
   },
   "outputs": [],
   "source": [
    "def flatten(image):\n",
    "    num_batch, num_channel, num_height, num_width = image.shape\n",
    "    if num_batch != 1:\n",
    "        raise ValueError('Not assumed batch size has been ocurred.')\n",
    "    return image.reshape([num_channel, num_height * num_width])"
   ]
  },
  {
   "cell_type": "markdown",
   "metadata": {},
   "source": [
    "#### flattenのテスト"
   ]
  },
  {
   "cell_type": "code",
   "execution_count": 26,
   "metadata": {},
   "outputs": [
    {
     "data": {
      "text/plain": [
       "array([[[[ 0,  1],\n",
       "         [ 2,  3],\n",
       "         [ 4,  5],\n",
       "         [ 6,  7]],\n",
       "\n",
       "        [[ 8,  9],\n",
       "         [10, 11],\n",
       "         [12, 13],\n",
       "         [14, 15]],\n",
       "\n",
       "        [[16, 17],\n",
       "         [18, 19],\n",
       "         [20, 21],\n",
       "         [22, 23]]]])"
      ]
     },
     "execution_count": 26,
     "metadata": {},
     "output_type": "execute_result"
    }
   ],
   "source": [
    "test_data1 = np.arange(1 * 3 * 4 * 2).reshape([1, 3, 4, 2])\n",
    "test_data1"
   ]
  },
  {
   "cell_type": "code",
   "execution_count": 27,
   "metadata": {},
   "outputs": [
    {
     "data": {
      "text/plain": [
       "array([[ 0,  1,  2,  3,  4,  5,  6,  7],\n",
       "       [ 8,  9, 10, 11, 12, 13, 14, 15],\n",
       "       [16, 17, 18, 19, 20, 21, 22, 23]])"
      ]
     },
     "execution_count": 27,
     "metadata": {},
     "output_type": "execute_result"
    }
   ],
   "source": [
    "flatten(test_data1)"
   ]
  },
  {
   "cell_type": "code",
   "execution_count": 28,
   "metadata": {},
   "outputs": [
    {
     "data": {
      "text/plain": [
       "array([[[[ 0,  1],\n",
       "         [ 2,  3],\n",
       "         [ 4,  5],\n",
       "         [ 6,  7]],\n",
       "\n",
       "        [[ 8,  9],\n",
       "         [10, 11],\n",
       "         [12, 13],\n",
       "         [14, 15]],\n",
       "\n",
       "        [[16, 17],\n",
       "         [18, 19],\n",
       "         [20, 21],\n",
       "         [22, 23]]],\n",
       "\n",
       "\n",
       "       [[[24, 25],\n",
       "         [26, 27],\n",
       "         [28, 29],\n",
       "         [30, 31]],\n",
       "\n",
       "        [[32, 33],\n",
       "         [34, 35],\n",
       "         [36, 37],\n",
       "         [38, 39]],\n",
       "\n",
       "        [[40, 41],\n",
       "         [42, 43],\n",
       "         [44, 45],\n",
       "         [46, 47]]]])"
      ]
     },
     "execution_count": 28,
     "metadata": {},
     "output_type": "execute_result"
    }
   ],
   "source": [
    "test_data2 = np.arange(2 * 3 * 4 * 2).reshape([2, 3, 4, 2])\n",
    "test_data2"
   ]
  },
  {
   "cell_type": "code",
   "execution_count": 29,
   "metadata": {},
   "outputs": [
    {
     "ename": "ValueError",
     "evalue": "Not assumed batch size has been ocurred.",
     "output_type": "error",
     "traceback": [
      "\u001b[0;31m---------------------------------------------------------------------------\u001b[0m",
      "\u001b[0;31mValueError\u001b[0m                                Traceback (most recent call last)",
      "\u001b[0;32m<ipython-input-29-01ff7ac7a770>\u001b[0m in \u001b[0;36m<module>\u001b[0;34m()\u001b[0m\n\u001b[0;32m----> 1\u001b[0;31m \u001b[0mflatten\u001b[0m\u001b[0;34m(\u001b[0m\u001b[0mtest_data2\u001b[0m\u001b[0;34m)\u001b[0m\u001b[0;34m\u001b[0m\u001b[0m\n\u001b[0m",
      "\u001b[0;32m<ipython-input-23-5d78cd867ef2>\u001b[0m in \u001b[0;36mflatten\u001b[0;34m(image)\u001b[0m\n\u001b[1;32m      2\u001b[0m     \u001b[0mnum_batch\u001b[0m\u001b[0;34m,\u001b[0m \u001b[0mnum_channel\u001b[0m\u001b[0;34m,\u001b[0m \u001b[0mnum_height\u001b[0m\u001b[0;34m,\u001b[0m \u001b[0mnum_width\u001b[0m \u001b[0;34m=\u001b[0m \u001b[0mimage\u001b[0m\u001b[0;34m.\u001b[0m\u001b[0mshape\u001b[0m\u001b[0;34m\u001b[0m\u001b[0m\n\u001b[1;32m      3\u001b[0m     \u001b[0;32mif\u001b[0m \u001b[0mnum_batch\u001b[0m \u001b[0;34m!=\u001b[0m \u001b[0;36m1\u001b[0m\u001b[0;34m:\u001b[0m\u001b[0;34m\u001b[0m\u001b[0m\n\u001b[0;32m----> 4\u001b[0;31m         \u001b[0;32mraise\u001b[0m \u001b[0mValueError\u001b[0m\u001b[0;34m(\u001b[0m\u001b[0;34m'Not assumed batch size has been ocurred.'\u001b[0m\u001b[0;34m)\u001b[0m\u001b[0;34m\u001b[0m\u001b[0m\n\u001b[0m\u001b[1;32m      5\u001b[0m     \u001b[0;32mreturn\u001b[0m \u001b[0mimage\u001b[0m\u001b[0;34m.\u001b[0m\u001b[0mreshape\u001b[0m\u001b[0;34m(\u001b[0m\u001b[0;34m[\u001b[0m\u001b[0mnum_channel\u001b[0m\u001b[0;34m,\u001b[0m \u001b[0mnum_height\u001b[0m \u001b[0;34m*\u001b[0m \u001b[0mnum_width\u001b[0m\u001b[0;34m]\u001b[0m\u001b[0;34m)\u001b[0m\u001b[0;34m\u001b[0m\u001b[0m\n",
      "\u001b[0;31mValueError\u001b[0m: Not assumed batch size has been ocurred."
     ]
    }
   ],
   "source": [
    "flatten(test_data2)"
   ]
  },
  {
   "cell_type": "code",
   "execution_count": 19,
   "metadata": {
    "collapsed": true
   },
   "outputs": [],
   "source": [
    "# グラム行列を計算する\n",
    "def calculate_gram_matrix(x):\n",
    "    return np.dot(x, x.T)"
   ]
  },
  {
   "cell_type": "code",
   "execution_count": 46,
   "metadata": {},
   "outputs": [
    {
     "data": {
      "text/plain": [
       "array([[  3.29813063e-02,   6.68354481e-02,   7.13971704e-02, ...,\n",
       "          2.21395370e-04,   0.00000000e+00,   1.77914575e-02],\n",
       "       [  6.68354481e-02,   2.83326566e-01,   9.90822017e-02, ...,\n",
       "          1.52218690e-05,   0.00000000e+00,   7.55421817e-02],\n",
       "       [  7.13971704e-02,   9.90822017e-02,   4.68583584e+00, ...,\n",
       "          2.07738742e-01,   0.00000000e+00,   2.62595937e-02],\n",
       "       ..., \n",
       "       [  2.21395370e-04,   1.52218690e-05,   2.07738742e-01, ...,\n",
       "          5.73648885e-02,   0.00000000e+00,   0.00000000e+00],\n",
       "       [  0.00000000e+00,   0.00000000e+00,   0.00000000e+00, ...,\n",
       "          0.00000000e+00,   0.00000000e+00,   0.00000000e+00],\n",
       "       [  1.77914575e-02,   7.55421817e-02,   2.62595937e-02, ...,\n",
       "          0.00000000e+00,   0.00000000e+00,   2.01420300e-02]], dtype=float32)"
      ]
     },
     "execution_count": 46,
     "metadata": {},
     "output_type": "execute_result"
    }
   ],
   "source": [
    "flattened = flatten(result_unit5_conv)\n",
    "gram_matrix = calculate_gram_matrix(flattened)\n",
    "gram_matrix"
   ]
  },
  {
   "cell_type": "code",
   "execution_count": 47,
   "metadata": {},
   "outputs": [
    {
     "data": {
      "text/plain": [
       "(3200, 3200)"
      ]
     },
     "execution_count": 47,
     "metadata": {},
     "output_type": "execute_result"
    }
   ],
   "source": [
    "gram_matrix.shape"
   ]
  },
  {
   "cell_type": "code",
   "execution_count": null,
   "metadata": {
    "collapsed": true
   },
   "outputs": [],
   "source": []
  }
 ],
 "metadata": {
  "kernelspec": {
   "display_name": "Python [conda root]",
   "language": "python",
   "name": "conda-root-py"
  },
  "language_info": {
   "codemirror_mode": {
    "name": "ipython",
    "version": 3
   },
   "file_extension": ".py",
   "mimetype": "text/x-python",
   "name": "python",
   "nbconvert_exporter": "python",
   "pygments_lexer": "ipython3",
   "version": "3.5.3"
  }
 },
 "nbformat": 4,
 "nbformat_minor": 2
}
