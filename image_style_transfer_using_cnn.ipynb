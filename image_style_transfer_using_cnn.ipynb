{
 "cells": [
  {
   "cell_type": "markdown",
   "metadata": {},
   "source": [
    "# Image Style Transferの実装\n",
    "\n",
    "--------------------------------\n",
    "Gatys, Ecker, and Bethge(2016)の画像スタイル変換を実装する。\n",
    "\n",
    "【参考文献】  \n",
    "L. A. Gatys, A. S. Ecker, and M. Bethge,  \n",
    "Image style transfer using convolutional neural networks,  \n",
    "In Proceedings of the IEEE Conference on Computer Vision and Pattern Recognition, pages, 2414-2423, 2016."
   ]
  },
  {
   "cell_type": "code",
   "execution_count": 1,
   "metadata": {
    "collapsed": true
   },
   "outputs": [],
   "source": [
    "import numpy as np\n",
    "import pandas as pd\n",
    "import tensorflow as tf"
   ]
  },
  {
   "cell_type": "code",
   "execution_count": 2,
   "metadata": {
    "collapsed": true
   },
   "outputs": [],
   "source": [
    "CONTENT_FILE = '/home/ishiyama/image_style_transfer/image/input/test_input_01.JPG'\n",
    "STYLE_FILE = '/home/ishiyama/image_style_transfer/image/style/test_style_01.jpg'"
   ]
  },
  {
   "cell_type": "code",
   "execution_count": 16,
   "metadata": {
    "collapsed": true
   },
   "outputs": [],
   "source": [
    "def read_images_as_jpeg(file):\n",
    "    \n",
    "    \"\"\"\n",
    "    JPEG Image Reader\n",
    "    \n",
    "    This function reads the content and style images as JPEG format.\n",
    "    These image data must be square for now, different height and\n",
    "    width will be able to supplied for future.\n",
    "    \n",
    "    Args:\n",
    "        file : str. A path of the image file.\n",
    "    \n",
    "    Returns:\n",
    "        A tuple. Each Elements are Tensor object of the read images.\n",
    "    \"\"\"\n",
    "    \n",
    "    filename_queue = tf.train.string_input_producer([file])\n",
    "    reader = tf.WholeFileReader()\n",
    "    key, value = reader.read(filename_queue)\n",
    "    image = tf.image.decode_jpeg(value)\n",
    "\n",
    "    # Convert read image data to RGB representation.\n",
    "    sess = tf.Session()\n",
    "    sess.run(tf.global_variables_initializer())\n",
    "    tf.train.start_queue_runners(sess)\n",
    "    image_rgb = sess.run(image)\n",
    "    height, width, channels = image_rgb.shape\n",
    "\n",
    "    return image_rgb.reshape([1, height, width, channels])"
   ]
  },
  {
   "cell_type": "code",
   "execution_count": 17,
   "metadata": {
    "collapsed": true
   },
   "outputs": [],
   "source": [
    "image = read_images_as_jpeg(file=CONTENT_FILE)"
   ]
  },
  {
   "cell_type": "markdown",
   "metadata": {},
   "source": [
    "# VGGを実装する\n",
    "------------------------\n",
    "画像の特徴量を抽出するアルゴリズムにはSimonyan and Zisserman(2015)で提案されたCNN(VGG19)の畳込み層とプーリング層が使われている。  \n",
    "ここでは、「TensorFlowで学ぶディープラーニング入門」の多層CNNの実装を参考にVGG19を構築する。  \n",
    "\n",
    "【参考文献】  \n",
    "K. Simonyan and A. Zisserman, Very Deep Convolutional Networks For Large-Scale Image Recognition, arXiv: 1409.1556v6, 2015  \n",
    "中井悦司, TensorFlowで学ぶディープラーニング入門〜畳み込みニューラルネットワーク徹底解説, マイナビ出版, 2016"
   ]
  },
  {
   "cell_type": "markdown",
   "metadata": {},
   "source": [
    "### 畳み込み層を実装する"
   ]
  },
  {
   "cell_type": "code",
   "execution_count": 19,
   "metadata": {
    "collapsed": true
   },
   "outputs": [],
   "source": [
    "import tensorflow as tf\n",
    "import numpy as np\n",
    "from tensorflow.examples.tutorials.mnist import input_data\n",
    "\n",
    "\n",
    "def calculate_convolutional_layer(x, filter_height, filter_width, output_channels):\n",
    "\n",
    "    \"\"\"\n",
    "    Executeing a convolutional layer task.\n",
    "    \n",
    "    Args:\n",
    "        x                     : An image data.\n",
    "        filter_height   (int) : A height of each filters.\n",
    "        filter_width    (int) : A width of each filters.\n",
    "        output_channels (int) : A number of channels which must be outputed.\n",
    "\n",
    "    Returns:\n",
    "        An activation of an convolutional layer.\n",
    "    \"\"\"\n",
    "\n",
    "    if ((not isinstance(filter_height, int))\n",
    "        or (not isinstance(filter_width, int))\n",
    "        or (not isinstance(output_channels, int))):\n",
    "        raise TypeError('\"filter_height\" and \"filter_width\" and \"output_channels\" '\n",
    "                        'must be integer.')\n",
    "\n",
    "    input_channels = int(x.shape[-1])\n",
    "    W = tf.Variable(\n",
    "        tf.truncated_normal(\n",
    "            shape=[filter_height,\n",
    "                   filter_width,\n",
    "                   input_channels,\n",
    "                   output_channels],\n",
    "            stddev=0.1\n",
    "        )\n",
    "    )\n",
    "    h = tf.nn.conv2d(x, W, strides=[1, 1, 1, 1], padding='SAME')\n",
    "    b = tf.Variable(tf.constant(0.1, shape=[output_channels]))\n",
    "    convoluted_image = tf.nn.relu(h + b)\n",
    "\n",
    "    return convoluted_image"
   ]
  },
  {
   "cell_type": "code",
   "execution_count": 21,
   "metadata": {},
   "outputs": [
    {
     "data": {
      "text/plain": [
       "array([[[[   0.        ],\n",
       "         [   5.92983389],\n",
       "         [   6.9534297 ],\n",
       "         ..., \n",
       "         [   2.48100328],\n",
       "         [   2.87942934],\n",
       "         [  32.4462204 ]],\n",
       "\n",
       "        [[   0.        ],\n",
       "         [  82.54264069],\n",
       "         [  84.53868103],\n",
       "         ..., \n",
       "         [  60.57832718],\n",
       "         [  60.90055466],\n",
       "         [  80.83361053]],\n",
       "\n",
       "        [[   0.        ],\n",
       "         [  79.78822327],\n",
       "         [  79.83817291],\n",
       "         ..., \n",
       "         [  58.84753799],\n",
       "         [  59.38722992],\n",
       "         [  78.98212433]],\n",
       "\n",
       "        ..., \n",
       "        [[   0.        ],\n",
       "         [  86.2284317 ],\n",
       "         [  82.22116852],\n",
       "         ..., \n",
       "         [  85.50039673],\n",
       "         [  84.84648895],\n",
       "         [ 111.43790436]],\n",
       "\n",
       "        [[   0.        ],\n",
       "         [  83.08228302],\n",
       "         [  84.59938049],\n",
       "         ..., \n",
       "         [  85.34658051],\n",
       "         [  84.6473465 ],\n",
       "         [ 111.02858734]],\n",
       "\n",
       "        [[   0.        ],\n",
       "         [   0.        ],\n",
       "         [   0.19895324],\n",
       "         ..., \n",
       "         [   1.57046664],\n",
       "         [   1.21202242],\n",
       "         [  23.90888405]]]], dtype=float32)"
      ]
     },
     "execution_count": 21,
     "metadata": {},
     "output_type": "execute_result"
    }
   ],
   "source": [
    "x = tf.placeholder(tf.float32, [1, 1200, 1600, 3])\n",
    "test = calculate_convolutional_layer(\n",
    "    x=x,\n",
    "    filter_height=3,\n",
    "    filter_width=3,\n",
    "    output_channels=1\n",
    ")\n",
    "sess = tf.InteractiveSession()\n",
    "# tf.Session()だと、sess.runで返ってくる行列の要素がすべて0だった。\n",
    "# TODO: Sessionメソッド と InteractiveSessionメソッドの違いを調べる\n",
    "# sess = tf.Session()\n",
    "sess.run(tf.global_variables_initializer())\n",
    "sess.run(test, feed_dict={x: image})"
   ]
  },
  {
   "cell_type": "markdown",
   "metadata": {},
   "source": [
    "## TODO: Conv2D_4の仕様を調べる"
   ]
  },
  {
   "cell_type": "markdown",
   "metadata": {
    "collapsed": true
   },
   "source": [
    "### Maxプーリング層を実装する"
   ]
  },
  {
   "cell_type": "code",
   "execution_count": 9,
   "metadata": {
    "collapsed": true
   },
   "outputs": [],
   "source": [
    "def calculate_max_pooling_layer(x, ksize, strides):\n",
    "\n",
    "    \"\"\"Wrapper function of tf.nn.max_pool.\n",
    "    \n",
    "    Args:\n",
    "        x       : A Tensor produced by calculate_convolutional_layer.\n",
    "        ksize   : A list of ints that has length >= 4. The size of\n",
    "                  the window for each dimension of the input tensor.\n",
    "        strides : A list of ints that has length >= 4. The stride\n",
    "                  of the sliding window for each dimension of the\n",
    "                  input tensor.\n",
    "    \n",
    "    Returns:\n",
    "        A pooled image.\n",
    "    \"\"\"\n",
    "\n",
    "    pooled_image = tf.nn.max_pool(x, ksize=ksize, strides=strides, padding='SAME')\n",
    "\n",
    "    return pooled_image"
   ]
  },
  {
   "cell_type": "markdown",
   "metadata": {},
   "source": [
    "### 畳込みとプーリング処理の途中経過を保持するクラスを実装する"
   ]
  },
  {
   "cell_type": "code",
   "execution_count": 15,
   "metadata": {
    "collapsed": true
   },
   "outputs": [],
   "source": [
    "FILTER_CONF = {\n",
    "    'height': 3,\n",
    "    'width': 3,\n",
    "    'channels': 1,\n",
    "    'num': 1\n",
    "}\n",
    "\n",
    "class ConvNetProgressHolder(object):\n",
    "\n",
    "    \"\"\"Holder of convoluted images and pooled image.\n",
    "    \n",
    "    This class is used like the struct of C language.\n",
    "    This has no methods.\n",
    "    \n",
    "    Attributes:\n",
    "        input_data (Tensor) : An image that is applied to convolution and pooling.\n",
    "        conv (list)         : The list of convoluted images, each images are Tensor objects.\n",
    "        pool (Tensor)       : A image that is pooled after convolutional layer.\n",
    "    \"\"\"\n",
    "\n",
    "    def __init__(self):\n",
    "\n",
    "        self.input_data = None\n",
    "        self.conv = []\n",
    "        self.pool = None\n",
    "\n",
    "    \n",
    "def apply_vgg_network_unit(x, channels, num_conv):\n",
    "\n",
    "    \"\"\"Apply VGG Network From a Convolutional Layer to Max Pooling Layer.\n",
    "\n",
    "    Table 1 of Simonyan and Zisserman(2015) is separated by 5 parts,\n",
    "    each parts is from an input data or a pooled data at previous part\n",
    "    to a maxpool.\n",
    "    This function provides to apply a that part.\n",
    "    This will apply recursively.\n",
    "    \n",
    "    Args:\n",
    "        x (Tensor)     : An input data or A Max pooled data returned by this function.\n",
    "        channels (int) : A number of channels described at Table 1 of\n",
    "                         Simonyan and Zisserman(2015).\n",
    "        num_conv (int) : A number of applying covolutional layers.\n",
    "                         See Simonyan and Zisserman(2015) for detail.\n",
    "\n",
    "    Returns:\n",
    "        A ConvNetProgressHolder object.\n",
    "    \"\"\"\n",
    "\n",
    "    if num_conv < 2:\n",
    "        raise ValueError('num_conv must be >= 2.')\n",
    "\n",
    "    conv_holder = ConvNetProgressHolder()\n",
    "    conv_holder.input_data = x\n",
    "\n",
    "    conv = calculate_convolutional_layer(\n",
    "        x=conv_holder.input_data,\n",
    "        filter_conf=FILTER_CONF,\n",
    "        output_channels=channels\n",
    "    )\n",
    "    conv_holder.conv.append(conv)\n",
    "\n",
    "    for i in range(1, num_conv):\n",
    "        conv = calculate_convolutional_layer(\n",
    "            x=conv_holder.conv[i - 1],\n",
    "            filter_conf=FILTER_CONF,\n",
    "            output_channels=channels\n",
    "        )\n",
    "        conv_holder.conv.append(conv)\n",
    "\n",
    "    conv_holder.pool = calculate_max_pooling_layer(\n",
    "        x=conv_holder.conv[i - 1],\n",
    "        ksize=[1, 1, 1, 1],\n",
    "        strides=[1, 1, 1, 1]\n",
    "    )\n",
    "\n",
    "    return conv_holder\n"
   ]
  },
  {
   "cell_type": "markdown",
   "metadata": {},
   "source": [
    "### VGGの畳込みとプーリング層を構築する"
   ]
  },
  {
   "cell_type": "code",
   "execution_count": null,
   "metadata": {
    "collapsed": true
   },
   "outputs": [],
   "source": [
    "unit1 = apply_vgg_network_unit(x=x, channels=64, num_conv=2)\n",
    "unit2 = apply_vgg_network_unit(x=unit1.pool, channels=128, num_conv=2)\n",
    "unit3 = apply_vgg_network_unit(x=unit2.pool, channels=256, num_conv=4)\n",
    "unit4 = apply_vgg_network_unit(x=unit3.pool, channels=512, num_conv=4)\n",
    "unit5 = apply_vgg_network_unit(x=unit4.pool, channels=512, num_conv=4)"
   ]
  }
 ],
 "metadata": {
  "kernelspec": {
   "display_name": "Python [conda root]",
   "language": "python",
   "name": "conda-root-py"
  },
  "language_info": {
   "codemirror_mode": {
    "name": "ipython",
    "version": 3
   },
   "file_extension": ".py",
   "mimetype": "text/x-python",
   "name": "python",
   "nbconvert_exporter": "python",
   "pygments_lexer": "ipython3",
   "version": "3.5.3"
  }
 },
 "nbformat": 4,
 "nbformat_minor": 2
}
