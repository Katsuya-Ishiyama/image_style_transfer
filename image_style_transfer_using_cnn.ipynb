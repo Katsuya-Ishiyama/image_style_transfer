{
 "cells": [
  {
   "cell_type": "markdown",
   "metadata": {},
   "source": [
    "# Image Style Transferの実装\n",
    "\n",
    "--------------------------------\n",
    "Gatys, Ecker, and Bethge(2016)の画像スタイル変換を実装する。\n",
    "\n",
    "【参考文献】  \n",
    "L. A. Gatys, A. S. Ecker, and M. Bethge,  \n",
    "Image style transfer using convolutional neural networks,  \n",
    "In Proceedings of the IEEE Conference on Computer Vision and Pattern Recognition, pages, 2414-2423, 2016."
   ]
  },
  {
   "cell_type": "code",
   "execution_count": 1,
   "metadata": {
    "collapsed": true
   },
   "outputs": [],
   "source": [
    "import numpy as np\n",
    "import pandas as pd\n",
    "import tensorflow as tf"
   ]
  },
  {
   "cell_type": "code",
   "execution_count": 2,
   "metadata": {
    "collapsed": true
   },
   "outputs": [],
   "source": [
    "CONTENT_FILE = '/home/ishiyama/image_style_transfer/image/input/test_input_01.JPG'\n",
    "STYLE_FILE = '/home/ishiyama/image_style_transfer/image/style/test_style_01.jpg'"
   ]
  },
  {
   "cell_type": "code",
   "execution_count": 3,
   "metadata": {
    "collapsed": true
   },
   "outputs": [],
   "source": [
    "class Image(np.ndarray):\n",
    "\n",
    "    \"\"\"画像を扱うためのnumpy.ndarray\n",
    "    \n",
    "    XXX: 実装が大変なので一旦保留\n",
    "         画像の形状の情報を属性で取り出せるようにしたい\n",
    "    \"\"\"\n",
    "    \n",
    "    DATA_FORMAT_CHAR = {\n",
    "        'BATCH': 'N',\n",
    "        'HEIGHT': 'H',\n",
    "        'WIDTH': 'W',\n",
    "        'CHANNEL': 'C'\n",
    "    }\n",
    "\n",
    "    def __new__(subtype,\n",
    "                shape,\n",
    "                dtype=float,\n",
    "                buffer=None,\n",
    "                offset=0,\n",
    "                strides=None,\n",
    "                order=None,\n",
    "                data_format='NHWC'):\n",
    "\n",
    "        super(__class__, self).__new__(subtype, shape, dtype, buffer, offset, strides, order)\n",
    "\n",
    "        self.data_format = data_format\n",
    "        num_batch, num_height, num_width, num_channel = self._get_image_shape(data_format=data_format)\n",
    "        self.num_batch = num_batch\n",
    "        self.num_height = num_height\n",
    "        self.num_width = num_width\n",
    "        self.num_channel = num_channel\n",
    "\n",
    "    def _get_image_shape(self, data_format):\n",
    "        _image_shape = self.shape\n",
    "        idx_batch = self._get_index_data_format(data_format=data_format, data_type='BATCH'),\n",
    "        idx_height = self._get_index_data_format(data_format=data_format, data_type='HEIGHT')\n",
    "        idx_width = self._get_index_data_format(data_format=data_format, data_type='WIDTH')\n",
    "        idx_channel = self._get_index_data_format(data_format=data_format, data_type='CHANNEL')\n",
    "        reordered_image_shape = (_image_shape[idx_batch],\n",
    "                                 _image_shape[idx_height],\n",
    "                                 _image_shape[idx_width],\n",
    "                                 _image_shape[idx_channel])\n",
    "        return reordered_image_shape\n",
    "\n",
    "    def _get_index_data_format(self, data_format, data_type):\n",
    "        idx = data_format.find(__class__.DATA_FORMAT_CHAR[data_type])\n",
    "        if idx == -1:\n",
    "            raise ValueError('data type \"{}\" is not available.'.format(data_type))\n",
    "\n",
    "        return idx\n",
    "\n",
    "    @classmethod\n",
    "    def reshape(self, *args):\n",
    "        self = __class__(super(__class__, self).reshape(args))\n"
   ]
  },
  {
   "cell_type": "code",
   "execution_count": 4,
   "metadata": {
    "collapsed": true
   },
   "outputs": [],
   "source": [
    "def read_images_as_jpeg(file):\n",
    "    \n",
    "    \"\"\"\n",
    "    JPEG Image Reader\n",
    "    \n",
    "    This function reads the content and style images as JPEG format.\n",
    "    These image data must be square for now, different height and\n",
    "    width will be able to supplied for future.\n",
    "    \n",
    "    Args:\n",
    "        file : str. A path of the image file.\n",
    "    \n",
    "    Returns:\n",
    "        A tuple. Each Elements are Tensor object of the read images.\n",
    "    \"\"\"\n",
    "    \n",
    "    filename_queue = tf.train.string_input_producer([file])\n",
    "    reader = tf.WholeFileReader()\n",
    "    key, value = reader.read(filename_queue)\n",
    "    image = tf.image.decode_jpeg(value)\n",
    "\n",
    "    # Read image is a Tensor object which tf.nn.conv2d cannot handle,\n",
    "    # so convert it to numpy.ndarray.\n",
    "    sess = tf.Session()\n",
    "    sess.run(tf.global_variables_initializer())\n",
    "    tf.train.start_queue_runners(sess)\n",
    "    # Returned array's shape will be (height, width, channel).\n",
    "    image_array_hwc = sess.run(image)\n",
    "    new_shape = [1]\n",
    "    new_shape.extend(image_array_hwc.shape)\n",
    "\n",
    "    # return image_array_chw\n",
    "    return image_array_hwc.reshape(new_shape)"
   ]
  },
  {
   "cell_type": "code",
   "execution_count": 5,
   "metadata": {},
   "outputs": [
    {
     "data": {
      "text/plain": [
       "(1, 1200, 1600, 3)"
      ]
     },
     "execution_count": 5,
     "metadata": {},
     "output_type": "execute_result"
    }
   ],
   "source": [
    "image = read_images_as_jpeg(file=CONTENT_FILE)\n",
    "image.shape"
   ]
  },
  {
   "cell_type": "markdown",
   "metadata": {},
   "source": [
    "# VGGを実装する\n",
    "------------------------\n",
    "画像の特徴量を抽出するアルゴリズムにはSimonyan and Zisserman(2015)で提案されたCNN(VGG19)の畳込み層とプーリング層が使われている。  \n",
    "ここでは、「TensorFlowで学ぶディープラーニング入門」の多層CNNの実装を参考にVGG19を構築する。  \n",
    "\n",
    "【参考文献】  \n",
    "K. Simonyan and A. Zisserman, Very Deep Convolutional Networks For Large-Scale Image Recognition, arXiv: 1409.1556v6, 2015  \n",
    "中井悦司, TensorFlowで学ぶディープラーニング入門〜畳み込みニューラルネットワーク徹底解説, マイナビ出版, 2016"
   ]
  },
  {
   "cell_type": "markdown",
   "metadata": {},
   "source": [
    "### 畳み込み層を実装する"
   ]
  },
  {
   "cell_type": "code",
   "execution_count": 10,
   "metadata": {
    "collapsed": true
   },
   "outputs": [],
   "source": [
    "import tensorflow as tf\n",
    "import numpy as np\n",
    "from tensorflow.examples.tutorials.mnist import input_data\n",
    "\n",
    "\n",
    "def calculate_convolutional_layer(x, filter_height, filter_width, output_channels):\n",
    "\n",
    "    \"\"\"\n",
    "    Executeing a convolutional layer task.\n",
    "    \n",
    "    Args:\n",
    "        x                     : An image data.\n",
    "        filter_height   (int) : A height of each filters.\n",
    "        filter_width    (int) : A width of each filters.\n",
    "        output_channels (int) : A number of channels which must be outputed.\n",
    "\n",
    "    Returns:\n",
    "        An activation of an convolutional layer.\n",
    "    \"\"\"\n",
    "\n",
    "    if ((not isinstance(filter_height, int))\n",
    "        or (not isinstance(filter_width, int))\n",
    "        or (not isinstance(output_channels, int))):\n",
    "        raise TypeError('\"filter_height\" and \"filter_width\" and \"output_channels\" '\n",
    "                        'must be integer.')\n",
    "\n",
    "    # TODO: 入力画像の縦、横、チャンネル数を属性で取得できるようにする\n",
    "    # 例） input_channels = x.num_channels\n",
    "    input_channels = int(x.shape[-1])\n",
    "    W = tf.Variable(\n",
    "        tf.truncated_normal(\n",
    "            shape=[filter_height,\n",
    "                   filter_width,\n",
    "                   input_channels,\n",
    "                   output_channels],\n",
    "            stddev=0.1\n",
    "        )\n",
    "    )\n",
    "    h = tf.nn.conv2d(x, W, strides=[1, 1, 1, 1], padding='SAME')\n",
    "    b = tf.Variable(tf.constant(0.1, shape=[output_channels]))\n",
    "    convoluted_image = tf.nn.relu(h + b)\n",
    "\n",
    "    return convoluted_image"
   ]
  },
  {
   "cell_type": "code",
   "execution_count": 11,
   "metadata": {},
   "outputs": [],
   "source": [
    "x = tf.placeholder(tf.float32, [1, 1200, 1600, 3])\n",
    "test_model = calculate_convolutional_layer(\n",
    "    x=x,\n",
    "    filter_height=3,\n",
    "    filter_width=3,\n",
    "    output_channels=1\n",
    ")\n",
    "sess = tf.InteractiveSession()\n",
    "# tf.Session()だと、sess.runで返ってくる行列の要素がすべて0だった。\n",
    "# TODO: Sessionメソッド と InteractiveSessionメソッドの違いを調べる\n",
    "# sess = tf.Session()\n",
    "sess.run(tf.global_variables_initializer())\n",
    "test_result = sess.run(test_model, feed_dict={x: image})"
   ]
  },
  {
   "cell_type": "code",
   "execution_count": 12,
   "metadata": {},
   "outputs": [
    {
     "data": {
      "text/plain": [
       "(1, 1200, 1600, 1)"
      ]
     },
     "execution_count": 12,
     "metadata": {},
     "output_type": "execute_result"
    }
   ],
   "source": [
    "test_result.shape"
   ]
  },
  {
   "cell_type": "code",
   "execution_count": 13,
   "metadata": {},
   "outputs": [
    {
     "data": {
      "text/plain": [
       "array([[[[ 0.],\n",
       "         [ 0.],\n",
       "         [ 0.],\n",
       "         ..., \n",
       "         [ 0.],\n",
       "         [ 0.],\n",
       "         [ 0.]],\n",
       "\n",
       "        [[ 0.],\n",
       "         [ 0.],\n",
       "         [ 0.],\n",
       "         ..., \n",
       "         [ 0.],\n",
       "         [ 0.],\n",
       "         [ 0.]],\n",
       "\n",
       "        [[ 0.],\n",
       "         [ 0.],\n",
       "         [ 0.],\n",
       "         ..., \n",
       "         [ 0.],\n",
       "         [ 0.],\n",
       "         [ 0.]],\n",
       "\n",
       "        ..., \n",
       "        [[ 0.],\n",
       "         [ 0.],\n",
       "         [ 0.],\n",
       "         ..., \n",
       "         [ 0.],\n",
       "         [ 0.],\n",
       "         [ 0.]],\n",
       "\n",
       "        [[ 0.],\n",
       "         [ 0.],\n",
       "         [ 0.],\n",
       "         ..., \n",
       "         [ 0.],\n",
       "         [ 0.],\n",
       "         [ 0.]],\n",
       "\n",
       "        [[ 0.],\n",
       "         [ 0.],\n",
       "         [ 0.],\n",
       "         ..., \n",
       "         [ 0.],\n",
       "         [ 0.],\n",
       "         [ 0.]]]], dtype=float32)"
      ]
     },
     "execution_count": 13,
     "metadata": {},
     "output_type": "execute_result"
    }
   ],
   "source": [
    "test_result"
   ]
  },
  {
   "cell_type": "markdown",
   "metadata": {
    "collapsed": true
   },
   "source": [
    "### Maxプーリング層を実装する"
   ]
  },
  {
   "cell_type": "code",
   "execution_count": 14,
   "metadata": {
    "collapsed": true
   },
   "outputs": [],
   "source": [
    "def calculate_max_pooling_layer(x, ksize, strides):\n",
    "\n",
    "    \"\"\"Wrapper function of tf.nn.max_pool.\n",
    "    \n",
    "    Args:\n",
    "        x       : A Tensor produced by calculate_convolutional_layer.\n",
    "        ksize   : A list of ints that has length >= 4. The size of\n",
    "                  the window for each dimension of the input tensor.\n",
    "        strides : A list of ints that has length >= 4. The stride\n",
    "                  of the sliding window for each dimension of the\n",
    "                  input tensor.\n",
    "    \n",
    "    Returns:\n",
    "        A pooled image.\n",
    "    \"\"\"\n",
    "\n",
    "    pooled_image = tf.nn.max_pool(x, ksize=ksize, strides=strides, padding='SAME')\n",
    "\n",
    "    return pooled_image"
   ]
  },
  {
   "cell_type": "markdown",
   "metadata": {},
   "source": [
    "### 畳込みとプーリング処理の途中経過を保持するクラスを実装する"
   ]
  },
  {
   "cell_type": "code",
   "execution_count": 15,
   "metadata": {
    "collapsed": true
   },
   "outputs": [],
   "source": [
    "class ConvNetProgressHolder(object):\n",
    "\n",
    "    \"\"\"Holder of convoluted images and pooled image.\n",
    "    \n",
    "    This class is used like the struct of C language.\n",
    "    This has no methods.\n",
    "    \n",
    "    Attributes:\n",
    "        input_data (Tensor) : An image that is applied to convolution and pooling.\n",
    "        conv (list)         : The list of convoluted images, each images are Tensor objects.\n",
    "        pool (Tensor)       : A image that is pooled after convolutional layer.\n",
    "    \"\"\"\n",
    "\n",
    "    def __init__(self):\n",
    "\n",
    "        self.input_data = None\n",
    "        self.conv = []\n",
    "        self.pool = None\n",
    "\n",
    "\n",
    "# FILTER_CONF = {\n",
    "#     'height': 3,\n",
    "#     'width': 3,\n",
    "#     'channels': 1,\n",
    "#     'num': 1\n",
    "# }\n",
    "\n",
    "FILTER_CONF = {\n",
    "    'height': 3,\n",
    "    'width': 3\n",
    "}\n",
    "\n",
    "\n",
    "def apply_vgg_network_unit(x, channels, num_conv):\n",
    "\n",
    "    \"\"\"Apply VGG Network From a Convolutional Layer to Max Pooling Layer.\n",
    "\n",
    "    Table 1 of Simonyan and Zisserman(2015) is separated by 5 parts,\n",
    "    each parts is from an input data or a pooled data at previous part\n",
    "    to a maxpool.\n",
    "    This function provides to apply a that part.\n",
    "    This will apply recursively.\n",
    "    \n",
    "    Args:\n",
    "        x (Tensor)     : An input data or A Max pooled data returned by this function.\n",
    "        channels (int) : A number of channels described at Table 1 of\n",
    "                         Simonyan and Zisserman(2015).\n",
    "        num_conv (int) : A number of applying covolutional layers.\n",
    "                         See Simonyan and Zisserman(2015) for detail.\n",
    "\n",
    "    Returns:\n",
    "        A ConvNetProgressHolder object.\n",
    "    \"\"\"\n",
    "\n",
    "    if num_conv < 2:\n",
    "        raise ValueError('num_conv must be >= 2.')\n",
    "\n",
    "    conv_holder = ConvNetProgressHolder()\n",
    "    conv_holder.input_data = x\n",
    "\n",
    "    conv = calculate_convolutional_layer(\n",
    "        x=conv_holder.input_data,\n",
    "        filter_height=FILTER_CONF['height'],\n",
    "\n",
    "        filter_width=FILTER_CONF['width'],\n",
    "        output_channels=channels\n",
    "    )\n",
    "    conv_holder.conv.append(conv)\n",
    "\n",
    "    for i in range(1, num_conv):\n",
    "        conv = calculate_convolutional_layer(\n",
    "            x=conv_holder.conv[i - 1],\n",
    "            filter_height=FILTER_CONF['height'],\n",
    "            filter_width=FILTER_CONF['width'],\n",
    "            output_channels=channels\n",
    "        )\n",
    "        conv_holder.conv.append(conv)\n",
    "\n",
    "    conv_holder.pool = calculate_max_pooling_layer(\n",
    "        x=conv_holder.conv[i - 1],\n",
    "        ksize=[1, 2, 2, 1],\n",
    "        strides=[1, 2, 2, 1]\n",
    "    )\n",
    "\n",
    "    return conv_holder\n"
   ]
  },
  {
   "cell_type": "markdown",
   "metadata": {},
   "source": [
    "### VGGの畳込みとプーリング層を構築する\n",
    "\n",
    "VGGの論文に従い、複数回の畳込み処理と1回のMAXプーリング処理を1セットとして、それを5回繰り返す。  \n",
    "今回実装する画像変換アルゴリズムでは、この処理の途中経過を使うため、使いたい部分をリストで１つにまとめてsess.run()に投げる。\n",
    "\n",
    "#### ※処理が重たいので実行に注意すること。\n",
    "実行環境は下記の通り。  \n",
    "今回はテストで実行するため、チャンネル数を少なくして実行しているが、  \n",
    "それでも実行するとメモリをすべて使うため、20〜30秒ほど\n",
    "フリーズしたかのように動作が重くなる。\n",
    "\n",
    "OS： Linux Mint 17.1 Rebecca  \n",
    "CPU： Intel(R) Core(TM)2 Duo CPU L9400 @ 1.86GHz  \n",
    "メモリ: 4GB"
   ]
  },
  {
   "cell_type": "code",
   "execution_count": 16,
   "metadata": {
    "collapsed": true
   },
   "outputs": [],
   "source": [
    "x = tf.placeholder(tf.float32, [1, 1200, 1600, 3])\n",
    "unit1 = apply_vgg_network_unit(x=x, channels=2, num_conv=2)\n",
    "unit2 = apply_vgg_network_unit(x=unit1.pool, channels=4, num_conv=2)\n",
    "unit3 = apply_vgg_network_unit(x=unit2.pool, channels=8, num_conv=4)\n",
    "unit4 = apply_vgg_network_unit(x=unit3.pool, channels=16, num_conv=4)\n",
    "unit5 = apply_vgg_network_unit(x=unit4.pool, channels=32, num_conv=4)\n",
    "sess = tf.InteractiveSession()\n",
    "# sess = tf.Session()\n",
    "sess.run(tf.global_variables_initializer())\n",
    "\n",
    "# 使いたい過程をリストでまとめてsess.runに投げると特徴量抽出の\n",
    "# 途中経過を取り出せる\n",
    "result_unit2_conv, result_unit5_conv, result_unit5_pool = sess.run(\n",
    "    [unit2.conv[1], unit5.conv[2], unit5.pool],\n",
    "    feed_dict={x: image}\n",
    ")"
   ]
  },
  {
   "cell_type": "code",
   "execution_count": 17,
   "metadata": {},
   "outputs": [
    {
     "data": {
      "text/plain": [
       "(1, 600, 800, 4)"
      ]
     },
     "execution_count": 17,
     "metadata": {},
     "output_type": "execute_result"
    }
   ],
   "source": [
    "result_unit2_conv.shape"
   ]
  },
  {
   "cell_type": "code",
   "execution_count": 18,
   "metadata": {},
   "outputs": [
    {
     "data": {
      "text/plain": [
       "(1, 75, 100, 32)"
      ]
     },
     "execution_count": 18,
     "metadata": {},
     "output_type": "execute_result"
    }
   ],
   "source": [
    "result_unit5_conv.shape"
   ]
  },
  {
   "cell_type": "code",
   "execution_count": 19,
   "metadata": {},
   "outputs": [
    {
     "data": {
      "text/plain": [
       "array([[[[ 0.07332373,  0.66808367,  0.80856329, ...,  0.26975435,\n",
       "           0.        ,  0.81825364],\n",
       "         [ 0.51574194,  0.10978623,  0.46874422, ...,  0.21187124,\n",
       "           0.16080841,  1.49389958],\n",
       "         [ 0.01897774,  0.        ,  0.47072285, ...,  0.25768346,\n",
       "           0.50854111,  1.59541595],\n",
       "         ..., \n",
       "         [ 0.        ,  0.        ,  0.31321809, ...,  0.        ,\n",
       "           0.83198977,  1.38084924],\n",
       "         [ 0.        ,  0.        ,  0.1006048 , ...,  0.        ,\n",
       "           0.80839944,  1.00195742],\n",
       "         [ 0.        ,  0.        ,  0.        , ...,  0.        ,\n",
       "           0.5568881 ,  0.9600063 ]],\n",
       "\n",
       "        [[ 0.2371507 ,  0.64132631,  0.71723801, ...,  0.        ,\n",
       "           0.        ,  0.85163844],\n",
       "         [ 0.5855453 ,  0.2290796 ,  0.02267351, ...,  0.        ,\n",
       "           0.        ,  0.83372408],\n",
       "         [ 0.        ,  0.02808331,  0.02626278, ...,  0.        ,\n",
       "           0.        ,  1.16168571],\n",
       "         ..., \n",
       "         [ 0.        ,  0.09826604,  0.11762702, ...,  0.        ,\n",
       "           0.        ,  0.85457087],\n",
       "         [ 0.        ,  0.        ,  0.        , ...,  0.        ,\n",
       "           0.63497913,  0.67954552],\n",
       "         [ 0.        ,  0.        ,  0.        , ...,  0.        ,\n",
       "           0.65183067,  0.86624873]],\n",
       "\n",
       "        [[ 0.42021585,  0.65351379,  0.6587795 , ...,  0.08012243,\n",
       "           0.        ,  0.49845293],\n",
       "         [ 1.13232005,  0.        ,  0.        , ...,  0.        ,\n",
       "           0.        ,  0.48123795],\n",
       "         [ 0.15877786,  0.        ,  0.11315069, ...,  0.21667039,\n",
       "           0.        ,  0.70768327],\n",
       "         ..., \n",
       "         [ 0.        ,  0.        ,  0.00533096, ...,  0.        ,\n",
       "           0.        ,  0.5136658 ],\n",
       "         [ 0.43698755,  0.        ,  0.        , ...,  0.        ,\n",
       "           0.21986747,  0.60368723],\n",
       "         [ 0.27915648,  0.        ,  0.        , ...,  0.        ,\n",
       "           0.39567941,  0.92785293]],\n",
       "\n",
       "        ..., \n",
       "        [[ 0.46150923,  0.8018043 ,  0.62098312, ...,  0.04939438,\n",
       "           0.        ,  0.5633893 ],\n",
       "         [ 0.89045399,  0.03715677,  0.        , ...,  0.        ,\n",
       "           0.        ,  0.95974857],\n",
       "         [ 0.03189731,  0.        ,  0.        , ...,  0.03554078,\n",
       "           0.        ,  1.1810981 ],\n",
       "         ..., \n",
       "         [ 0.13038433,  0.        ,  0.        , ...,  0.        ,\n",
       "           0.        ,  0.81411707],\n",
       "         [ 0.21302067,  0.        ,  0.        , ...,  0.        ,\n",
       "           0.11079121,  1.00856292],\n",
       "         [ 0.071105  ,  0.        ,  0.        , ...,  0.        ,\n",
       "           0.75492382,  1.10669982]],\n",
       "\n",
       "        [[ 0.51618999,  0.85031539,  0.32447684, ...,  0.        ,\n",
       "           0.        ,  0.66531551],\n",
       "         [ 0.78782564,  0.10751408,  0.        , ...,  0.        ,\n",
       "           0.        ,  0.63802087],\n",
       "         [ 0.20109728,  0.15764424,  0.11155337, ...,  0.        ,\n",
       "           0.        ,  0.69721961],\n",
       "         ..., \n",
       "         [ 0.47365668,  0.08826184,  0.        , ...,  0.        ,\n",
       "           0.        ,  0.36200631],\n",
       "         [ 0.52347058,  0.        ,  0.        , ...,  0.17306012,\n",
       "           0.        ,  0.80446976],\n",
       "         [ 0.29632762,  0.        ,  0.        , ...,  0.        ,\n",
       "           0.37165228,  0.7920261 ]],\n",
       "\n",
       "        [[ 0.80145973,  0.53628534,  0.27892032, ...,  0.        ,\n",
       "           0.        ,  0.        ],\n",
       "         [ 1.00665879,  0.21695963,  0.03380422, ...,  0.        ,\n",
       "           0.        ,  0.        ],\n",
       "         [ 0.39831924,  0.63626748,  0.31890395, ...,  0.20763376,\n",
       "           0.        ,  0.        ],\n",
       "         ..., \n",
       "         [ 0.47939813,  0.8685379 ,  0.        , ...,  0.3746976 ,\n",
       "           0.        ,  0.        ],\n",
       "         [ 0.1912785 ,  0.7653966 ,  0.        , ...,  0.87321872,\n",
       "           0.        ,  0.        ],\n",
       "         [ 0.38455042,  0.41774237,  0.        , ...,  0.25695109,\n",
       "           0.        ,  0.29626483]]]], dtype=float32)"
      ]
     },
     "execution_count": 19,
     "metadata": {},
     "output_type": "execute_result"
    }
   ],
   "source": [
    "result_unit5_conv"
   ]
  },
  {
   "cell_type": "markdown",
   "metadata": {
    "collapsed": true
   },
   "source": [
    "# 画像を合成する処理を作る\n",
    "VGGによってスタイルを変換する画像とスタイルのリファレンスとなる画像の特徴量を抽出できるようになった。  \n",
    "今度はこの特徴量を用いて画像を実際に合成する部分を作っていく。  \n",
    "\n",
    "このアルゴリズムは変換したいスタイルに寄せるための損失関数$L_{style}$と  \n",
    "変換する画像の内容に寄せるための損失関数$L_{content}$をそれぞれ計算して、  \n",
    "\\begin{equation} L_{total} = \\alpha L_{content} + \\beta L_{style} \\end{equation}\n",
    "を最適化することで画像を合成する。"
   ]
  },
  {
   "cell_type": "markdown",
   "metadata": {},
   "source": [
    "----------------------------------------\n",
    "# 変換したいスタイルに寄せるための損失関数$L_{style}$を実装する\n",
    "変換したいスタイルに寄せるための損失関数$L_{style}$は次で計算する：\n",
    "\\begin{align}\n",
    "    L_{style} &= \\sum_{l=1}^{L} w_{l} E_{l} \\\\\n",
    "        E_{l} &= \\frac{1}{4N_{l}^{2}M_{l}^{2}} \\sum_{i=1}^{N_{l}} \\sum_{j=1}^{N_{l}} (G_{ij}^{l} - A_{ij}^{l})^{2}\n",
    "\\end{align}\n",
    "ただし、$N_{l}$は層$l$の畳込みフィルターの数、\n",
    "$M_{l}$は層$l$の畳込みフィルターのサイズで$M_{l} = \\text{フィルターの高さ} \\times \\text{フィルターの幅}$、\n",
    "$A_{ij}^{l}$はスタイル画像から抽出した特徴量で計算したグラム行列$A^{l}$の$(i, j)$成分、\n",
    "同様に、$G_{ij}^{l}$は合成後の画像から抽出した特徴量で計算したグラム行列$G^{l}$の$(i, j)$成分である。\n",
    "$G_{ij}^{l}$は次で計算する。  \n",
    "$G^{l}$は$(N_{l}, N_{l})$型行列で\n",
    "\\begin{equation}\n",
    "    G_{ij}^{l} = \\sum_{k=1}^{M_{l}} F_{ik}^{l}F_{jk}^{l}.\n",
    "\\end{equation}"
   ]
  },
  {
   "cell_type": "code",
   "execution_count": 20,
   "metadata": {},
   "outputs": [
    {
     "data": {
      "text/plain": [
       "(1, 75, 100, 32)"
      ]
     },
     "execution_count": 20,
     "metadata": {},
     "output_type": "execute_result"
    }
   ],
   "source": [
    "result_unit5_conv.shape"
   ]
  },
  {
   "cell_type": "code",
   "execution_count": 23,
   "metadata": {},
   "outputs": [
    {
     "data": {
      "text/plain": [
       "(1, 32, 75, 100)"
      ]
     },
     "execution_count": 23,
     "metadata": {},
     "output_type": "execute_result"
    }
   ],
   "source": [
    "transposed = result_unit5_conv.transpose([0, 3, 1, 2])\n",
    "transposed.shape"
   ]
  },
  {
   "cell_type": "code",
   "execution_count": 24,
   "metadata": {},
   "outputs": [
    {
     "data": {
      "text/plain": [
       "array([[ 0.07332373,  0.51574194,  0.01897774, ...,  0.47939813,\n",
       "         0.1912785 ,  0.38455042],\n",
       "       [ 0.66808367,  0.10978623,  0.        , ...,  0.8685379 ,\n",
       "         0.7653966 ,  0.41774237],\n",
       "       [ 0.80856329,  0.46874422,  0.47072285, ...,  0.        ,\n",
       "         0.        ,  0.        ],\n",
       "       ..., \n",
       "       [ 0.26975435,  0.21187124,  0.25768346, ...,  0.3746976 ,\n",
       "         0.87321872,  0.25695109],\n",
       "       [ 0.        ,  0.16080841,  0.50854111, ...,  0.        ,\n",
       "         0.        ,  0.        ],\n",
       "       [ 0.81825364,  1.49389958,  1.59541595, ...,  0.        ,\n",
       "         0.        ,  0.29626483]], dtype=float32)"
      ]
     },
     "execution_count": 24,
     "metadata": {},
     "output_type": "execute_result"
    }
   ],
   "source": [
    "# flatten\n",
    "transposed[0].reshape([32, 75 * 100])"
   ]
  },
  {
   "cell_type": "code",
   "execution_count": null,
   "metadata": {
    "collapsed": true
   },
   "outputs": [],
   "source": [
    "# グラム行列を計算する\n",
    "def calculate_gram_matrix(x):\n",
    "    return np.dot(x.T, x)"
   ]
  },
  {
   "cell_type": "code",
   "execution_count": null,
   "metadata": {
    "collapsed": true
   },
   "outputs": [],
   "source": [
    "test_array = np.arange(1 * 2 * 3 * 3).reshape([1, 2, 3, 3])\n",
    "test_array"
   ]
  },
  {
   "cell_type": "code",
   "execution_count": null,
   "metadata": {
    "collapsed": true
   },
   "outputs": [],
   "source": [
    "test_array.reshape([2, 3 * 3])"
   ]
  },
  {
   "cell_type": "code",
   "execution_count": null,
   "metadata": {
    "collapsed": true
   },
   "outputs": [],
   "source": [
    "result_unit2_conv.shape"
   ]
  },
  {
   "cell_type": "code",
   "execution_count": null,
   "metadata": {
    "collapsed": true
   },
   "outputs": [],
   "source": []
  }
 ],
 "metadata": {
  "kernelspec": {
   "display_name": "Python [conda root]",
   "language": "python",
   "name": "conda-root-py"
  },
  "language_info": {
   "codemirror_mode": {
    "name": "ipython",
    "version": 3
   },
   "file_extension": ".py",
   "mimetype": "text/x-python",
   "name": "python",
   "nbconvert_exporter": "python",
   "pygments_lexer": "ipython3",
   "version": "3.5.3"
  }
 },
 "nbformat": 4,
 "nbformat_minor": 2
}
