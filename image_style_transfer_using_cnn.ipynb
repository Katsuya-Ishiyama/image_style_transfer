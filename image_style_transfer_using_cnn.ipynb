{
 "cells": [
  {
   "cell_type": "markdown",
   "metadata": {},
   "source": [
    "# Image Style Transferの実装\n",
    "\n",
    "--------------------------------\n",
    "Gatys, Ecker, and Bethge(2016)の画像スタイル変換を実装する。\n",
    "\n",
    "【参考文献】  \n",
    "L. A. Gatys, A. S. Ecker, and M. Bethge,  \n",
    "Image style transfer using convolutional neural networks,  \n",
    "In Proceedings of the IEEE Conference on Computer Vision and Pattern Recognition, pages, 2414-2423, 2016."
   ]
  },
  {
   "cell_type": "code",
   "execution_count": 1,
   "metadata": {
    "collapsed": true
   },
   "outputs": [],
   "source": [
    "import numpy as np\n",
    "import pandas as pd\n",
    "import tensorflow as tf"
   ]
  },
  {
   "cell_type": "code",
   "execution_count": 2,
   "metadata": {
    "collapsed": true
   },
   "outputs": [],
   "source": [
    "CONTENT_FILE = '/home/ishiyama/image_style_transfer/image/input/test_input_01.JPG'\n",
    "STYLE_FILE = '/home/ishiyama/image_style_transfer/image/style/test_style_01.jpg'"
   ]
  },
  {
   "cell_type": "code",
   "execution_count": 3,
   "metadata": {
    "collapsed": true
   },
   "outputs": [],
   "source": [
    "def read_images_as_jpeg(file):\n",
    "    \n",
    "    \"\"\"\n",
    "    JPEG Image Reader\n",
    "    \n",
    "    This function reads the content and style images as JPEG format.\n",
    "    These image data must be square for now, different height and\n",
    "    width will be able to supplied for future.\n",
    "    \n",
    "    Args:\n",
    "        file : str. A path of the image file.\n",
    "    \n",
    "    Returns:\n",
    "        A tuple. Each Elements are Tensor object of the read images.\n",
    "    \"\"\"\n",
    "    \n",
    "    filename_queue = tf.train.string_input_producer([file])\n",
    "    reader = tf.WholeFileReader()\n",
    "    key, value = reader.read(filename_queue)\n",
    "    image = tf.image.decode_jpeg(value)\n",
    "\n",
    "    # Convert read image data to RGB representation.\n",
    "    sess = tf.Session()\n",
    "    sess.run(tf.global_variables_initializer())\n",
    "    tf.train.start_queue_runners(sess)\n",
    "    image_rgb = sess.run(image)\n",
    "    height, width, channels = image_rgb.shape\n",
    "\n",
    "    return image_rgb.reshape([1, height, width, channels])"
   ]
  },
  {
   "cell_type": "code",
   "execution_count": 4,
   "metadata": {
    "collapsed": true
   },
   "outputs": [],
   "source": [
    "image = read_images_as_jpeg(file=CONTENT_FILE)"
   ]
  },
  {
   "cell_type": "markdown",
   "metadata": {},
   "source": [
    "# VGGを実装する\n",
    "------------------------\n",
    "画像の特徴量を抽出するアルゴリズムにはSimonyan and Zisserman(2015)で提案されたCNN(VGG19)の畳込み層とプーリング層が使われている。  \n",
    "ここでは、「TensorFlowで学ぶディープラーニング入門」の多層CNNの実装を参考にVGG19を構築する。  \n",
    "\n",
    "【参考文献】  \n",
    "K. Simonyan and A. Zisserman, Very Deep Convolutional Networks For Large-Scale Image Recognition, arXiv: 1409.1556v6, 2015  \n",
    "中井悦司, TensorFlowで学ぶディープラーニング入門〜畳み込みニューラルネットワーク徹底解説, マイナビ出版, 2016"
   ]
  },
  {
   "cell_type": "markdown",
   "metadata": {},
   "source": [
    "### 畳み込み層を実装する"
   ]
  },
  {
   "cell_type": "code",
   "execution_count": 5,
   "metadata": {
    "collapsed": true
   },
   "outputs": [],
   "source": [
    "import tensorflow as tf\n",
    "import numpy as np\n",
    "from tensorflow.examples.tutorials.mnist import input_data\n",
    "\n",
    "\n",
    "def calculate_convolutional_layer(x, filter_height, filter_width, output_channels):\n",
    "\n",
    "    \"\"\"\n",
    "    Executeing a convolutional layer task.\n",
    "    \n",
    "    Args:\n",
    "        x                     : An image data.\n",
    "        filter_height   (int) : A height of each filters.\n",
    "        filter_width    (int) : A width of each filters.\n",
    "        output_channels (int) : A number of channels which must be outputed.\n",
    "\n",
    "    Returns:\n",
    "        An activation of an convolutional layer.\n",
    "    \"\"\"\n",
    "\n",
    "    if ((not isinstance(filter_height, int))\n",
    "        or (not isinstance(filter_width, int))\n",
    "        or (not isinstance(output_channels, int))):\n",
    "        raise TypeError('\"filter_height\" and \"filter_width\" and \"output_channels\" '\n",
    "                        'must be integer.')\n",
    "\n",
    "    input_channels = int(x.shape[-1])\n",
    "    W = tf.Variable(\n",
    "        tf.truncated_normal(\n",
    "            shape=[filter_height,\n",
    "                   filter_width,\n",
    "                   input_channels,\n",
    "                   output_channels],\n",
    "            stddev=0.1\n",
    "        )\n",
    "    )\n",
    "    h = tf.nn.conv2d(x, W, strides=[1, 1, 1, 1], padding='SAME')\n",
    "    b = tf.Variable(tf.constant(0.1, shape=[output_channels]))\n",
    "    convoluted_image = tf.nn.relu(h + b)\n",
    "\n",
    "    return convoluted_image"
   ]
  },
  {
   "cell_type": "code",
   "execution_count": 6,
   "metadata": {},
   "outputs": [
    {
     "data": {
      "text/plain": [
       "array([[[[  0.        ],\n",
       "         [  0.        ],\n",
       "         [  0.        ],\n",
       "         ..., \n",
       "         [  0.        ],\n",
       "         [  0.        ],\n",
       "         [ 14.7912941 ]],\n",
       "\n",
       "        [[  0.        ],\n",
       "         [ 19.95758629],\n",
       "         [ 18.51756859],\n",
       "         ..., \n",
       "         [ 19.386549  ],\n",
       "         [ 19.57115746],\n",
       "         [ 65.23432159]],\n",
       "\n",
       "        [[  0.        ],\n",
       "         [ 18.29010201],\n",
       "         [ 17.54481506],\n",
       "         ..., \n",
       "         [ 19.24207115],\n",
       "         [ 19.96671677],\n",
       "         [ 65.07197571]],\n",
       "\n",
       "        ..., \n",
       "        [[  0.        ],\n",
       "         [ 21.11691093],\n",
       "         [ 21.05081367],\n",
       "         ..., \n",
       "         [ 24.52385712],\n",
       "         [ 24.15638542],\n",
       "         [ 88.45456696]],\n",
       "\n",
       "        [[  0.        ],\n",
       "         [ 21.07484627],\n",
       "         [ 22.14480591],\n",
       "         ..., \n",
       "         [ 24.70388031],\n",
       "         [ 24.40051079],\n",
       "         [ 88.44583893]],\n",
       "\n",
       "        [[  8.90180397],\n",
       "         [  6.8230834 ],\n",
       "         [  5.30810308],\n",
       "         ..., \n",
       "         [  9.68836594],\n",
       "         [  9.75821686],\n",
       "         [ 55.45297623]]]], dtype=float32)"
      ]
     },
     "execution_count": 6,
     "metadata": {},
     "output_type": "execute_result"
    }
   ],
   "source": [
    "x = tf.placeholder(tf.float32, [1, 1200, 1600, 3])\n",
    "test = calculate_convolutional_layer(\n",
    "    x=x,\n",
    "    filter_height=3,\n",
    "    filter_width=3,\n",
    "    output_channels=1\n",
    ")\n",
    "sess = tf.InteractiveSession()\n",
    "# tf.Session()だと、sess.runで返ってくる行列の要素がすべて0だった。\n",
    "# TODO: Sessionメソッド と InteractiveSessionメソッドの違いを調べる\n",
    "# sess = tf.Session()\n",
    "sess.run(tf.global_variables_initializer())\n",
    "sess.run(test, feed_dict={x: image})"
   ]
  },
  {
   "cell_type": "markdown",
   "metadata": {
    "collapsed": true
   },
   "source": [
    "### Maxプーリング層を実装する"
   ]
  },
  {
   "cell_type": "code",
   "execution_count": 7,
   "metadata": {
    "collapsed": true
   },
   "outputs": [],
   "source": [
    "def calculate_max_pooling_layer(x, ksize, strides):\n",
    "\n",
    "    \"\"\"Wrapper function of tf.nn.max_pool.\n",
    "    \n",
    "    Args:\n",
    "        x       : A Tensor produced by calculate_convolutional_layer.\n",
    "        ksize   : A list of ints that has length >= 4. The size of\n",
    "                  the window for each dimension of the input tensor.\n",
    "        strides : A list of ints that has length >= 4. The stride\n",
    "                  of the sliding window for each dimension of the\n",
    "                  input tensor.\n",
    "    \n",
    "    Returns:\n",
    "        A pooled image.\n",
    "    \"\"\"\n",
    "\n",
    "    pooled_image = tf.nn.max_pool(x, ksize=ksize, strides=strides, padding='SAME')\n",
    "\n",
    "    return pooled_image"
   ]
  },
  {
   "cell_type": "markdown",
   "metadata": {},
   "source": [
    "### 畳込みとプーリング処理の途中経過を保持するクラスを実装する"
   ]
  },
  {
   "cell_type": "code",
   "execution_count": 8,
   "metadata": {
    "collapsed": true
   },
   "outputs": [],
   "source": [
    "FILTER_CONF = {\n",
    "    'height': 3,\n",
    "    'width': 3,\n",
    "    'channels': 1,\n",
    "    'num': 1\n",
    "}\n",
    "\n",
    "class ConvNetProgressHolder(object):\n",
    "\n",
    "    \"\"\"Holder of convoluted images and pooled image.\n",
    "    \n",
    "    This class is used like the struct of C language.\n",
    "    This has no methods.\n",
    "    \n",
    "    Attributes:\n",
    "        input_data (Tensor) : An image that is applied to convolution and pooling.\n",
    "        conv (list)         : The list of convoluted images, each images are Tensor objects.\n",
    "        pool (Tensor)       : A image that is pooled after convolutional layer.\n",
    "    \"\"\"\n",
    "\n",
    "    def __init__(self):\n",
    "\n",
    "        self.input_data = None\n",
    "        self.conv = []\n",
    "        self.pool = None\n",
    "\n",
    "    \n",
    "def apply_vgg_network_unit(x, channels, num_conv):\n",
    "\n",
    "    \"\"\"Apply VGG Network From a Convolutional Layer to Max Pooling Layer.\n",
    "\n",
    "    Table 1 of Simonyan and Zisserman(2015) is separated by 5 parts,\n",
    "    each parts is from an input data or a pooled data at previous part\n",
    "    to a maxpool.\n",
    "    This function provides to apply a that part.\n",
    "    This will apply recursively.\n",
    "    \n",
    "    Args:\n",
    "        x (Tensor)     : An input data or A Max pooled data returned by this function.\n",
    "        channels (int) : A number of channels described at Table 1 of\n",
    "                         Simonyan and Zisserman(2015).\n",
    "        num_conv (int) : A number of applying covolutional layers.\n",
    "                         See Simonyan and Zisserman(2015) for detail.\n",
    "\n",
    "    Returns:\n",
    "        A ConvNetProgressHolder object.\n",
    "    \"\"\"\n",
    "\n",
    "    if num_conv < 2:\n",
    "        raise ValueError('num_conv must be >= 2.')\n",
    "\n",
    "    print(x)\n",
    "\n",
    "    conv_holder = ConvNetProgressHolder()\n",
    "    conv_holder.input_data = x\n",
    "\n",
    "    conv = calculate_convolutional_layer(\n",
    "        x=conv_holder.input_data,\n",
    "        filter_height=FILTER_CONF['height'],\n",
    "        filter_width=FILTER_CONF['width'],\n",
    "        output_channels=channels\n",
    "    )\n",
    "    conv_holder.conv.append(conv)\n",
    "\n",
    "    for i in range(1, num_conv):\n",
    "        conv = calculate_convolutional_layer(\n",
    "            x=conv_holder.conv[i - 1],\n",
    "            filter_height=FILTER_CONF['height'],\n",
    "            filter_width=FILTER_CONF['width'],\n",
    "            output_channels=channels\n",
    "        )\n",
    "        conv_holder.conv.append(conv)\n",
    "\n",
    "    conv_holder.pool = calculate_max_pooling_layer(\n",
    "        x=conv_holder.conv[i - 1],\n",
    "        ksize=[1, 1, 1, 1],\n",
    "        strides=[1, 1, 1, 1]\n",
    "    )\n",
    "\n",
    "    return conv_holder\n"
   ]
  },
  {
   "cell_type": "markdown",
   "metadata": {},
   "source": [
    "### VGGの畳込みとプーリング層を構築する\n",
    "\n",
    "# 処理が重たいので実行に注意する。\n",
    "※　このマシンでは1段目が限界"
   ]
  },
  {
   "cell_type": "code",
   "execution_count": 10,
   "metadata": {},
   "outputs": [
    {
     "name": "stdout",
     "output_type": "stream",
     "text": [
      "関数の外:  Tensor(\"Placeholder_2:0\", shape=(1, 1200, 1600, 3), dtype=float32)\n",
      "Tensor(\"Placeholder_2:0\", shape=(1, 1200, 1600, 3), dtype=float32)\n"
     ]
    },
    {
     "data": {
      "text/plain": [
       "array([[[[   0.        ,    5.4706769 ,    0.        , ...,    0.        ,\n",
       "            74.99827576,  105.98683929],\n",
       "         [   0.        ,    0.        ,    0.        , ...,    0.        ,\n",
       "            73.5799942 ,   93.82923126],\n",
       "         [   0.        ,    0.        ,    0.        , ...,    0.        ,\n",
       "            73.72968292,   92.15812683],\n",
       "         ..., \n",
       "         [   0.        ,    0.        ,    0.        , ...,    0.        ,\n",
       "            54.11470032,   69.58145905],\n",
       "         [   0.        ,    0.        ,    0.        , ...,    0.        ,\n",
       "            54.61402893,   69.3035965 ],\n",
       "         [   0.        ,    0.        ,    3.19779348, ...,    0.        ,\n",
       "            41.23967743,    0.        ]],\n",
       "\n",
       "        [[   0.        ,   51.46072388,    0.        , ...,    0.        ,\n",
       "           108.52433777,   32.36486816],\n",
       "         [   0.        ,   24.044487  ,    0.        , ...,    4.5194869 ,\n",
       "            96.15283966,    9.20607948],\n",
       "         [   0.        ,   23.03251648,    0.        , ...,    5.22392225,\n",
       "            93.51914215,    9.41632271],\n",
       "         ..., \n",
       "         [   0.        ,   17.1355381 ,    0.        , ...,    1.58554423,\n",
       "            69.65592957,    9.31367207],\n",
       "         [   0.        ,   16.88096809,    0.        , ...,    1.75174296,\n",
       "            70.2872467 ,    8.92071629],\n",
       "         [   0.        ,    0.        ,    0.        , ...,    0.        ,\n",
       "            61.40376663,    0.        ]],\n",
       "\n",
       "        [[   0.        ,   50.98577499,    0.        , ...,    0.        ,\n",
       "           105.41622162,   30.58747101],\n",
       "         [   0.        ,   25.85467339,    0.        , ...,    2.28419161,\n",
       "            93.35573578,    8.50977325],\n",
       "         [   0.        ,   24.18194389,    0.        , ...,    3.5073905 ,\n",
       "            91.43600464,   10.39603424],\n",
       "         ..., \n",
       "         [   0.        ,   18.93955803,    0.        , ...,    0.95443881,\n",
       "            69.20700836,    9.15661812],\n",
       "         [   0.        ,   18.9631176 ,    0.        , ...,    0.59395516,\n",
       "            69.748703  ,    8.49730015],\n",
       "         [   0.        ,    0.        ,    0.        , ...,    0.        ,\n",
       "            60.01394272,    0.        ]],\n",
       "\n",
       "        ..., \n",
       "        [[   0.        ,   46.68636322,    0.        , ...,    0.        ,\n",
       "           106.2514267 ,   33.5332222 ],\n",
       "         [   0.        ,   26.41503334,    0.        , ...,    4.14207983,\n",
       "            92.96897888,   14.61515045],\n",
       "         [   0.        ,   26.09484291,    0.        , ...,    5.93829298,\n",
       "            94.67838287,   15.2620945 ],\n",
       "         ..., \n",
       "         [   0.        ,   23.69537163,    0.        , ...,    4.12766886,\n",
       "            96.6043396 ,   11.5951004 ],\n",
       "         [   0.        ,   23.8662262 ,    0.        , ...,    3.91536474,\n",
       "            96.82711029,   11.81598663],\n",
       "         [   0.        ,    0.        ,    0.        , ...,    0.        ,\n",
       "            84.29411316,    0.        ]],\n",
       "\n",
       "        [[   0.        ,   44.56013107,    0.        , ...,    0.        ,\n",
       "           107.37985229,   36.71868134],\n",
       "         [   0.        ,   21.30523491,    0.        , ...,    5.56162786,\n",
       "            94.66105652,   13.83976746],\n",
       "         [   0.        ,   22.50043488,    0.        , ...,    5.58179617,\n",
       "            96.61621094,   12.32336426],\n",
       "         ..., \n",
       "         [   0.        ,   23.41928673,    0.        , ...,    4.34258127,\n",
       "            96.55282593,   11.85224915],\n",
       "         [   0.        ,   23.70930481,    0.        , ...,    3.86718893,\n",
       "            96.7614975 ,   12.40018463],\n",
       "         [   0.        ,    0.        ,    0.        , ...,    0.        ,\n",
       "            84.23387146,    0.        ]],\n",
       "\n",
       "        [[   0.        ,  135.32713318,    0.        , ...,    0.        ,\n",
       "            80.50268555,    0.        ],\n",
       "         [   0.        ,  114.81537628,    0.        , ...,    0.        ,\n",
       "            28.60792351,    0.        ],\n",
       "         [   0.        ,  114.77243805,    0.        , ...,    0.        ,\n",
       "            28.4109478 ,    0.        ],\n",
       "         ..., \n",
       "         [   0.        ,  114.9950943 ,    0.        , ...,    0.        ,\n",
       "            27.93489075,    0.        ],\n",
       "         [   0.        ,  115.63919067,    0.        , ...,    0.        ,\n",
       "            28.48393822,    0.        ],\n",
       "         [   0.        ,    6.18983412,    0.        , ...,    0.        ,\n",
       "            18.2751236 ,    0.        ]]]], dtype=float32)"
      ]
     },
     "execution_count": 10,
     "metadata": {},
     "output_type": "execute_result"
    }
   ],
   "source": [
    "x = tf.placeholder(tf.float32, [1, 1200, 1600, 3])\n",
    "print('関数の外: ', x)\n",
    "unit1 = apply_vgg_network_unit(x=x, channels=64, num_conv=2)\n",
    "# print('関数の外: ', unit1.pool)\n",
    "# unit2 = apply_vgg_network_unit(x=unit1.pool, channels=128, num_conv=2)\n",
    "# print('関数の外: ', unit2.pool)\n",
    "# unit3 = apply_vgg_network_unit(x=unit2.pool, channels=256, num_conv=4)\n",
    "# print('関数の外: ', unit3.pool)\n",
    "# unit4 = apply_vgg_network_unit(x=unit3.pool, channels=512, num_conv=4)\n",
    "# print('関数の外: ', unit4.pool)\n",
    "# unit5 = apply_vgg_network_unit(x=unit4.pool, channels=512, num_conv=4)\n",
    "sess = tf.InteractiveSession()\n",
    "# sess = tf.Session()\n",
    "sess.run(tf.global_variables_initializer())\n",
    "sess.run(unit1.pool, feed_dict={x: image})"
   ]
  },
  {
   "cell_type": "code",
   "execution_count": null,
   "metadata": {
    "collapsed": true
   },
   "outputs": [],
   "source": []
  }
 ],
 "metadata": {
  "kernelspec": {
   "display_name": "Python [conda root]",
   "language": "python",
   "name": "conda-root-py"
  },
  "language_info": {
   "codemirror_mode": {
    "name": "ipython",
    "version": 3
   },
   "file_extension": ".py",
   "mimetype": "text/x-python",
   "name": "python",
   "nbconvert_exporter": "python",
   "pygments_lexer": "ipython3",
   "version": "3.5.3"
  }
 },
 "nbformat": 4,
 "nbformat_minor": 2
}
